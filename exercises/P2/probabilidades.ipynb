{
 "cells": [
  {
   "cell_type": "markdown",
   "metadata": {},
   "source": [
    "# Exercícios \n",
    "\n",
    "1 - Uma urna contém duas bolas brancas (B) e três vermelhas (V). Retira-se uma bola ao acaso, se for branca lança-se uma moeda, se for vermelha ela é devolvida à urna e retira-se outra. Qual o espaço amostral do experimento?\n",
    "\n",
    "$\\Omega = (BC,BR,VBC,VBR,VVBC,VVBR,VVVBC,VVVBR)$ onde C = cara e R = coroa no arremesso da moeda.\n",
    "\n",
    "# - "
   ]
  },
  {
   "cell_type": "markdown",
   "metadata": {},
   "source": [
    "3 - Três jogadores (A,B,C) disputam um torneio. Inicialmente A joga com B e o vencedor joga com C e assim em diante. O torneio termina quando alguém ganha duas vezes seguidas ou quando são disputadas quatro partidas. Qual o espaço amostral?\n",
    "\n",
    "$\\Omega = (AA,ACC,ACBB,ACBA,BB,BCC,BCAA,BCAB)$\n",
    "\n",
    "# -"
   ]
  },
  {
   "cell_type": "markdown",
   "metadata": {},
   "source": [
    "11 - Dentre 6 números positivos e 8 negativos, dois deles são escolhidos ao acaso sem reposição e multiplicados. Qual a probabilidade do produto ser positivo?\n",
    "\n",
    "Para o produto ser positivo, precisamos escolher ou dois números positivos ou dois números negativo, dessa forma:\n",
    "\n",
    "A = dois números positivos\n",
    "B = dois números negativos\n",
    "\n",
    "$P(A) = \\frac{\\begin{pmatrix}6\\\\2\\end{pmatrix}}{\\begin{pmatrix}14\\\\2\\end{pmatrix}}= 0,164$\n",
    "\n",
    "$P(B) = \\frac{\\begin{pmatrix}8\\\\2\\end{pmatrix}}{\\begin{pmatrix}14\\\\2\\end{pmatrix}}= 0,307$\n",
    "\n",
    "P(A) + p(B) = 0,47\n",
    "# -\n",
    "\n"
   ]
  },
  {
   "cell_type": "markdown",
   "metadata": {},
   "source": [
    "12 - Considere o lançamento de dois dados. Considere os eventos A = soma dos números obtidos igual a 9 e B = número do primeiro dado maior ou igual a 4. Enumere os elementos de A e B, e encontre $A \\cup B, A \\cap B, A^c$\n",
    "\n",
    "A = {(6,3),(5,4),(4,5),(3,6)}\n",
    "\n",
    "B = {4,5,6}\n",
    "\n",
    "$P(A) = 1/36 + 1/36 + 1/36 + 1/36 = 4/36 = 1/9$\n",
    "\n",
    "$P(B) = 1/2$\n",
    "\n",
    "$P(A \\cap B) = {(5,4),(4,5),(3,6)} = 3/36 = 1/12$\n",
    "\n",
    "$P(A \\cup B) = P(A) + P(B) - P(A \\cap B) = 1/9 + 1/2 - 1/12 = 0,527$\n",
    "\n",
    "$P(A) + P(A^c) = 1 => P(A^c) = 1 - P(A) = 1 - 1/9 = 8/9$\n",
    "\n",
    "\n",
    "# -\n",
    "\n"
   ]
  },
  {
   "cell_type": "markdown",
   "metadata": {},
   "source": [
    "15/16 - Considere uma urna contendo 3 bolas pretas e cinco vermelhas.\n",
    "\n",
    "a) Probabilidade de retirar 2 bolas pretas com reposição e sem reposição\n",
    "\n",
    "\n",
    "> a) com reposição\n",
    "\n",
    "P(A) = 3/8 * 3/8 = 9/64\n",
    "\n",
    "> a) sem reposição\n",
    "\n",
    "P(A) = 3/8 * 2/7 = 6/56\n",
    "\n",
    "# -\n"
   ]
  },
  {
   "cell_type": "markdown",
   "metadata": {},
   "source": [
    "23 - Imagine 3 fábricas que produzem circuitos. A fábrica I produz 40%, enquanto as fábricas II e III produzem 30% cada. A probabilidade de que cada fábrica produza circuitos defeitusos são de 0.01, 0.04 e 0.03 respectivamente. Escolhido um circuito aleatório do conjunto dessas 3 fábricas, qual a probabilidade do mesmo não funcionar?\n",
    "\n",
    "= P(D) = P(D|I)P(I) + P(D|II)P(II) + P(D|III)P(III) =>\n",
    "=> 0.004 + 0.012 + 0.009 = 0.025\n",
    "\n",
    "# -\n",
    "\n"
   ]
  },
  {
   "cell_type": "markdown",
   "metadata": {},
   "source": [
    "24 - Mesma situação acima, mas agora considere que escolhemos um produto defeituoso ao acaso. qual a probabilidade dele ser da fábrica I?\n",
    "\n",
    "$P(I|D) = P(I)P(D|I)/P(D) = 0.4 * 0.001/0.025 = 0,16$\n",
    "\n",
    "# -\n"
   ]
  },
  {
   "cell_type": "markdown",
   "metadata": {},
   "source": [
    "26 - Um restaurante apresenta apenas dois tipos de refeições: salada ou prato de carnes. Considere que 20% dos fregueses masculinos preferem a salada, 30% das mulhares escolhem carne, 75% dos frequeses são homens e os seguintes eventos:\n",
    "\n",
    "H: Freguês homem\n",
    "\n",
    "M: Freguês mulher\n",
    "\n",
    "A: Freguês prefere salada\n",
    "\n",
    "B: Freguês prefere carne\n",
    "\n",
    "Calcular:\n",
    "\n",
    "a) $P(H), P(A|H), P(B|M), P(A\\cap H), P(A \\cup H), P(M|A)$\n",
    "\n",
    "$P(H): 0.75$\n",
    "\n",
    "$P(A|H) = \\frac{P(A\\cap H)}{P(H)} = 0.15/0.75 = 0.2$\n",
    "\n",
    "$P(B|M) = 0.3$\n",
    "\n",
    "$P(A\\cap H) = 0.15$\n",
    "\n",
    "$P(A|H)P(H) = 0.15$ \n",
    "\n",
    "$P(A \\cup H) = P(A) + P(H) - P(A\\cap H) => P(A) =$ Sabemos que H e M formam o espaço amostral completo de A, dessa forma: $A = H\\cap A \\cup M\\cap A = P(H\\cap A) + P(M\\cap A) = 0.15 + 0.175 = 0.325 => 0.325 + 0.75 - 0.15 = 0.925$\n",
    "\n",
    "$ P(A) = P(A|H)P(H) + P(A|M)P(M) = 0.325$\n",
    "\n",
    "$P(M|A) = P(M \\cap A)/P(A) = P(A|M)P(M)/P(A) = 0,538$\n",
    "\n",
    "# -"
   ]
  },
  {
   "cell_type": "markdown",
   "metadata": {},
   "source": [
    "32 - Em um teste com duas marcas apresentadas aleatoriamente, um experimentador de vinho faz três identificações corretas em três tentativas.\n",
    "\n",
    "Qual a probabilidade disso ocorrer se assumirmos que ele não tem habilidade para distinguir os vinhos?\n",
    "\n",
    "E se a probabilidade de distinguir corretamente em cada tentativa for de 90%?\n",
    "\n",
    "> Vamos identificar como A cada tentativa correta:\n",
    "\n",
    "a1 = 0.5 chance de acerto\n",
    "a2 = 0.5 chance de acerto\n",
    "a3 = 0.5 chance de acerto\n",
    "\n",
    "Como os eventos são independentes entre si, temos que: $P(a1 \\cap a2 \\cap a3) = P(a1)P(a2)P(a3) = 0.125$\n",
    "\n",
    "Se a chance de acerto for de 90%: $P(a1 \\cap a2 \\cap a3) = 0.729$\n",
    "\n",
    "# -"
   ]
  },
  {
   "cell_type": "markdown",
   "metadata": {},
   "source": [
    "36 - Três alarmes funcionam independentemente quando algo indesejável ocorrer. Cada alarme tem 0.9 de probabilidade de funcionar corretamente, qual a probabilidade de ouvir um deles quando necessário?\n",
    "\n",
    "Seja X o número de alarmes que funcionaram quando necessário:\n",
    "\n",
    "$P(x \\geq 1) = 1 - P(X = 0) = 1 - 0.10^3 = 0.999$\n",
    "\n",
    "# -"
   ]
  },
  {
   "cell_type": "markdown",
   "metadata": {},
   "source": [
    "37 - Em uma fábrica de parafusos, as máquinas A, B e C produze 25%, 35% e 40% respectivamente. Elas produzem 5%, 4% e 2% respectivamente de parafusos defeituosos. Escolhe-se por um acaso um parafuso e verifica-se que é defeituoso, qual a probabilidade deste parafuso ser da máquina A; B e C?\n",
    "\n",
    "Seja D o evento de um parafuso defeituoso:\n",
    "\n",
    "$P(D) = P(D|A)P(A) + P(D|B)P(B) + P(D|C)P(C) = 0.0345$\n",
    "\n",
    "$P(A|D) = P(D|A)P(A)/P(D) = 0.36$\n",
    "\n",
    "$P(B|D) = 0.41$\n",
    "\n",
    "$P(C|D) = 0.23$\n",
    "\n",
    "# -"
   ]
  },
  {
   "cell_type": "markdown",
   "metadata": {},
   "source": [
    "57 - Um sistema é composto por 3 componentes: 1, 2 e 3, com confiabilidade 0.9, 0.8 e 0.7 respectivamente. O componente 1 é indispensável, já os componentes 2 e 3 podem falhar que o sistema ainda funcionará (com menor eficiência). Se 2 e 3 falharem simultaneamente, ocorre falha no sistema. Supondo que os componentes funcionem independentemente, calcular a confiabilidade do sistema.\n",
    "\n",
    "Confiabilidade = 1 - P(A)P(B), sendo A a confiabilidade do sistema 1 e B a confiabilidade do sistema 2 e 3 conjuntos.\n",
    "\n",
    "Confiabilidade 2 e 3 conjuntos: 1 - 0.2x0.3 = 0.94\n",
    "\n",
    "confiabilidade total: 0.9 x 0.94 = 0.846\n",
    "\n",
    "# -"
   ]
  },
  {
   "cell_type": "code",
   "execution_count": null,
   "metadata": {},
   "outputs": [],
   "source": []
  }
 ],
 "metadata": {
  "kernelspec": {
   "display_name": "Python 3",
   "language": "python",
   "name": "python3"
  },
  "language_info": {
   "codemirror_mode": {
    "name": "ipython",
    "version": 3
   },
   "file_extension": ".py",
   "mimetype": "text/x-python",
   "name": "python",
   "nbconvert_exporter": "python",
   "pygments_lexer": "ipython3",
   "version": "3.7.4"
  }
 },
 "nbformat": 4,
 "nbformat_minor": 4
}
