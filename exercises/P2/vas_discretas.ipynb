{
 "cells": [
  {
   "cell_type": "markdown",
   "metadata": {},
   "source": [
    "1 - Considere uma urna contendo 3 bolas vermelhas e 5 pretas. Retire 3 bolas sem reposição e defina a v.a igual ao número de bolas pretas. Obtenha a distribuição desta v.a\n",
    "\n",
    "X = {0,1,2,3}\n",
    "\n",
    "$C_{8,3} = 8!/3!5! = 56$\n",
    "\n",
    "$P(X = 0) = \\begin{pmatrix}\n",
    "5\\\\ 0 \n",
    "\\end{pmatrix}\\begin{pmatrix}\n",
    "3\\\\ 3 \n",
    "\\end{pmatrix} = 1$\n",
    "\n",
    "$P(X = 1) = \\begin{pmatrix}\n",
    "5\\\\ 1 \n",
    "\\end{pmatrix}\\begin{pmatrix}\n",
    "3\\\\ 2 \n",
    "\\end{pmatrix} = 15$\n",
    "\n",
    "$P(X = 2) = \\begin{pmatrix}\n",
    "5\\\\ 2 \n",
    "\\end{pmatrix}\\begin{pmatrix}\n",
    "3\\\\ 1 \n",
    "\\end{pmatrix} = 30$\n",
    "\n",
    "$P(X = 3) = \\begin{pmatrix}\n",
    "5\\\\ 3 \n",
    "\\end{pmatrix}\\begin{pmatrix}\n",
    "3\\\\ 0 \n",
    "\\end{pmatrix} = 10$\n",
    "\n",
    "Logo, usando (x, p(x)) => X tem distribuição {(0, 1/56), (1,15/56), (2, 30/56), (3, 10/56)}"
   ]
  },
  {
   "cell_type": "markdown",
   "metadata": {},
   "source": [
    "4 - Uma moeda perfeita é lançada 4 vezes. Seja Y o número de caras obtidos, calcule a distribuição de Y\n",
    "\n",
    "P(X = 0) = (1/2)^4 = 1/16\n",
    "P(X = 1) = "
   ]
  }
 ],
 "metadata": {
  "kernelspec": {
   "display_name": "Python 3",
   "language": "python",
   "name": "python3"
  },
  "language_info": {
   "codemirror_mode": {
    "name": "ipython",
    "version": 3
   },
   "file_extension": ".py",
   "mimetype": "text/x-python",
   "name": "python",
   "nbconvert_exporter": "python",
   "pygments_lexer": "ipython3",
   "version": "3.7.4"
  }
 },
 "nbformat": 4,
 "nbformat_minor": 4
}
