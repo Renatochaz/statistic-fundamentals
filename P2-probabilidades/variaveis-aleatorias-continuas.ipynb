{
 "cells": [
  {
   "cell_type": "markdown",
   "metadata": {},
   "source": [
    "# Definição\n",
    "\n",
    "Uma função X, definida sobre um espaço amostral e assumindo valores num intervalo de números reais, é dita uma variável aleatória contínua.\n",
    "\n",
    "# Analisando um exemplo\n",
    "\n",
    "Imagine um relógio analógico. Seu ponteiro de segundos salta a cada 1 segundo para um ângulo diferente, de modo que se o relógio tem uma probabilidade X de parar repentinamente e essa probabilidade é a mesma para todo salto, temos uma v.a com distribuição uniforme discreta, e podemos calcular a probabilidade do ponteiro parar em determinado ângulo.\n",
    "\n",
    "Agora imagine um relógio eletrônico com uma probabilidade X de falha, no qual o ponteiro se move continuamente. Os possíveis vâlores de ângulo não são mais 60 como no primeiro caso, mas são valores entre 0 e 360 (pense aqui: pode ser no ângulo 1, ou 1,1, ou 1,1111...., representando infinitas possibilidades)\n",
    "\n",
    "Entretanto, podemos calcular a probabilidade do ponteiro parar em um determinado intervalo (por exemplo, entre 0 e 90).\n",
    "\n",
    "Matematicamente, temos que:\n",
    "\n",
    "$P(a \\leq X < b) = \\int_a^b f(x)dx = \\int_a^b 1/360dx = b-a/360$\n",
    "\n",
    "Sendo esta a integral definida de uma função entre dois pontos (entre 0 e 360 exemplo), determinando a área sob a curva representativa da função entre os pontos."
   ]
  },
  {
   "cell_type": "markdown",
   "metadata": {},
   "source": [
    "A função f(x) é chamada de função densidade de probabilidade (f.d.p)\n",
    "\n",
    "No exemplo do relógio, todas regiões tem maior chance de ocorrer. Porém, em muitos casos certas regiões tem diferentes chances de ocorrer, a determinação destas chances está contida na f.d.p.\n",
    "Portanto, a f.d.p é um indicador da concentração de massa (probabilidade) nos possíveis valores de X. Note que a f.d.p não determina a probabilidade de um evento ocorrer, essa probabilidade é derivada da área sob a curva entre dois pontos.\n",
    "\n",
    "\n",
    "\n",
    "\n"
   ]
  }
 ],
 "metadata": {
  "kernelspec": {
   "display_name": "Python 3",
   "language": "python",
   "name": "python3"
  },
  "language_info": {
   "codemirror_mode": {
    "name": "ipython",
    "version": 3
   },
   "file_extension": ".py",
   "mimetype": "text/x-python",
   "name": "python",
   "nbconvert_exporter": "python",
   "pygments_lexer": "ipython3",
   "version": "3.7.4"
  }
 },
 "nbformat": 4,
 "nbformat_minor": 4
}
