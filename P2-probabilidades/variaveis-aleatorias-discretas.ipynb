{
 "cells": [
  {
   "cell_type": "markdown",
   "metadata": {},
   "source": [
    "# Variáveis Aleatórias Discretas\n",
    "\n",
    "# Justificativa\n",
    "\n",
    "Para aplicar os conceitos estudados nos capítulos anteriores precisamos de modelos probabilísticos que representem todos os tipos de variáveis definidas na primeira parte.\n",
    "\n",
    "Nesta parte trataremos de variáveis quantitativas discretas e, visto que os modelos para variáveis quantitativas são mais ricos que os de variáveis qualitativas, iremos estudar o caso de transformações de variáveis qualitativas para quantitativas, como codificar um questionário sim ou não em dados 1 ou 0.\n",
    "\n",
    "Entender os modelos probabilísticos para variáveis quantitativas é **essencial**, iremos tratar das mesmas pelo restante de todo o material, e a partir de agora iremos nos referir as mesmas por variáveis aleatórias (v.a.)"
   ]
  },
  {
   "cell_type": "markdown",
   "metadata": {},
   "source": [
    "# Conceitos de variáveis aleatórias discretas\n",
    "\n"
   ]
  },
  {
   "cell_type": "markdown",
   "metadata": {},
   "source": [
    "> Definição: Uma função X, definida no espaço amostral $\\Omega$ e com valores em um conjunto enumerável de pontos da reta é dita uma variável aleatória discreta.\n",
    "\n",
    "> Definição: Chama-se função de probabilidade da v.a. discreta X, que assume valores $x_1,...,x_n$, a função $(x_i, p(x_i), i = 1,...,n)$, que a cada valor xi associa a sua probabilidade de ocorrência: $p(x_i) = P(X = x_i) = p_i$"
   ]
  },
  {
   "cell_type": "markdown",
   "metadata": {},
   "source": [
    "Vamos analisar um exemplo para entender melhor o que é uma v.a.\n",
    "\n",
    "Imagine um empresário interessado em estabelecer uma firma, que recebe uma esfera de um fabricante A e um cilindro do fabricante B, e monta seu produto com estes dois itens. O produto final precisa ter uma dimensão dentro do especificado que só pode ser verificada após a montagem, para estudar a viabilidade do empreendimento o empresário precisa ter uma idéia da distribuição de lucro por peça montada.\n",
    "\n",
    "Cada componente dos fabricantes pode ser classificado como: Bom, longo ou curto, e cada componente custa R$5.00.\n",
    "\n",
    "Vende-se o produto final por 25, podemos recuperar os componentes longos por 5 reais e se tiver um componente curto, a peça é irrecuperável e é vendida por 5 reais.\n",
    "\n",
    "O fabricante A tem 80\\% de probabilidade de enviar um componente bom, 10\\% longo e 10\\% curto. O fabricante B tem 70\\% de enviar um bom, 20\\% longo e 10\\% curto.\n",
    "\n",
    "A construção das distribuições de frequência vai depender de certas suposições, que quanto mais próximas da verdade, mais próximo nosso modelo consegue retratar a realidade.\n",
    "\n",
    "Nosso espaço amostral contempla as seguintes possibilidades (com probabilidades):\n",
    "\n",
    "BB = 0.56\n",
    "\n",
    "BL = 0.16\n",
    "\n",
    "BC = 0.08\n",
    "\n",
    "LB = 0.07\n",
    "\n",
    "LL = 0.02\n",
    "\n",
    "LC = 0.01\n",
    "\n",
    "CB = 0.07\n",
    "\n",
    "CL = 0.02\n",
    "\n",
    "CC = 0.01\n",
    "\n",
    "Estamos interessados em saber uma possível distribuição dos lucros, dessa forma vamos definir como nossa variável aleatória X o lucro em cada uma dessas possibilidades (sabemos os preços), então associando cada possibilidade a um valor X do lucro:\n",
    "\n",
    "BB = 0.56 = 15\n",
    "\n",
    "BL = 0.16 = 10\n",
    "\n",
    "BC = 0.08 = -5\n",
    "\n",
    "LB = 0.07 = 10\n",
    "\n",
    "LL = 0.02 = 5\n",
    "\n",
    "LC = 0.01 = -5\n",
    "\n",
    "CB = 0.07 = -5\n",
    "\n",
    "CL = 0.02 = -5\n",
    "\n",
    "CC = 0.01 = -5"
   ]
  },
  {
   "cell_type": "markdown",
   "metadata": {},
   "source": [
    "Dessa forma sabemos que X assume 4 valores referentes a conjuntos de eventos:\n",
    "\n",
    "A1 = (BB) = 15\n",
    "\n",
    "A2 = (BL, LB) = 10\n",
    "\n",
    "A3 = (LL) = 5\n",
    "\n",
    "A4 = (BC, LC, CB, CL, CC) = -5\n",
    "\n",
    "\n",
    "e cada um destes eventos tem uma probabilidade de ocorrer: A1 = 0.56, A2 = 0.23, A3 = 0.02 e A4 = 0.19\n",
    "\n",
    "Dessa forma a nossa função (x, p(x)) é um modelo teórico para a distribuição da variável X. Aqui x é o valor da variável aleatória X, e p(x) a probabilidade de X tomar o valor de x.\n",
    "\n",
    "Matematicamente escrevemos como P(X = xi) = P(A), onde $A = (w_1,...,w_n) \\subset \\Omega$ é tal que $X(w_i) = x_i$ se $w_i \\in A$ e $X(w_i) \\neq x_i$ se $w_i \\in A^c$\n",
    "    "
   ]
  },
  {
   "cell_type": "markdown",
   "metadata": {},
   "source": [
    "# Valor médio e variância de uma v.a."
   ]
  },
  {
   "cell_type": "markdown",
   "metadata": {},
   "source": [
    "Dada a v.a. discreta, que assume valores $x_1,...,x_n$, chamamos de valor médio ou esperança de X:\n",
    "\n",
    "$E(X) = \\sum_{i=1}^n x_iP(X=x_i) = \\sum_{i=1}^n x_ip_i$"
   ]
  },
  {
   "cell_type": "markdown",
   "metadata": {},
   "source": [
    "No caso do exemplo acima, qual seria o valor médio esperado por peça produzida do empresário?\n",
    "\n",
    "$E(X) = 0.56*15 + 0.23*10 + 0.02*5+0.19*-5 = 9,85$"
   ]
  },
  {
   "cell_type": "markdown",
   "metadata": {},
   "source": [
    "A variância de uma v.a.é de:\n",
    "\n",
    "$Var(X) = \\sum_{i=1}^n[x_i-E(X)]^2p_i$, e o desvio padrão sendo a raíz quadrada positiva da variância.\n"
   ]
  },
  {
   "cell_type": "markdown",
   "metadata": {},
   "source": [
    "# Propriedades do valor médio\n",
    "\n",
    "Supondo que todos os preços estejam errados do nosso exemplo, e todos os preços e custos devessem ser multiplicador por 2, na forma da transformação: Z = 2X.\n",
    "\n",
    "As probabilidades associadas a v.a. Z seriam as mesmas de X, assim o valor médio de Z é obtido por:\n",
    "\n",
    "$E(Z) = \\sum z_ip(z_i) = \\sum(2x)p(x_i) = 19,7$ (O dobro de X)\n",
    "\n",
    "Para uma transformação de potência, o raciocínio é o mesmo, de tal forma que $E(W) = \\sum w_ip(w_i)$, porém note que -5^2 = 5^2, dessa forma teremos um componente diferente no somatório que será = 25.(0.21), assim nossa transformação W tem a média:\n",
    "\n",
    "$E(W) = \\sum x^2p(x_i) = 154,25$\n",
    "\n"
   ]
  },
  {
   "cell_type": "markdown",
   "metadata": {},
   "source": [
    "Podemos facilmente escrever a f.p das esperanças transformadas de X:\n",
    "\n",
    "> Dada a v.a. discreta X e a respectiva função de probabilidade p(x), a esperança da função h(x) = \n",
    "\n",
    "$E[h(x)] = \\sum h(x_i)p(x_i)$\n",
    "\n",
    "Com as seguinte propriedades:\n",
    "\n",
    "se h(x) = aX + b, onde a e b são constantes:\n",
    "\n",
    "$E(aX + b) = aE(x) + b$\n",
    "\n",
    "$var(aX + b) = a^2var(x)$\n",
    "\n",
    "$var(X) = E(x^2) - [E(X)]^2 = \\sum x_i^2p(x_i) - (\\sum x_ip(x_i))^2$\n",
    "\n",
    "A partir de agora, a variância e média de uma v.a. X será indicada por:\n",
    "\n",
    "$E(X) = \\mu(X)$\n",
    "\n",
    "$var(X) = \\sigma^2(X)$\n",
    "\n",
    "ou respectivamente apenas $\\mu$ e $\\sigma^2$"
   ]
  },
  {
   "cell_type": "markdown",
   "metadata": {},
   "source": [
    "# Função de Distribuição Acumulada\n",
    "\n",
    "Dada a v.a. X, chamaremos de função de distribuição acumulada (f.d.a), ou simplesmente a f.d. F(x) =\n",
    "\n",
    "$F(X) = P(X \\leq x)$\n",
    "\n",
    "Note que o domínio de F(X) são todos os números reais, enquanto o contradomínio é o intervalo [0,1]\n",
    "\n",
    "Voltando ao exemplo do empresário, a f.d.a de X é:\n",
    "\n",
    "F(x) = \n",
    "\n",
    "$0,$ se $x < -5$\n",
    "\n",
    "$0.19,$ se $-5 \\leq x < 5$\n",
    "\n",
    "$0.21,$ se $5 \\leq x < 10$\n",
    "\n",
    "$0.44,$ se $10 \\leq x < 15$\n",
    "\n",
    "$1,$ se $x \\geq 15$\n"
   ]
  },
  {
   "cell_type": "markdown",
   "metadata": {},
   "source": [
    "# Modelos probabilísticos para variáveis aleatórias discretas\n",
    "\n",
    "# Distribuição uniforme discreta\n",
    "\n",
    "Caso em que cada valor possível da v.a. tem a mesma probabilidde\n",
    "\n",
    "> A v.a. discreta X, assumindo valores $x_1,...,x_k$, tem distribuição uniforme se:\n",
    "\n",
    "$P(X = x_i) = p(x_i) = p = 1/k$ para todo i = 1,2,...,k.\n",
    "\n",
    "Assim temos que:\n",
    "\n",
    "$E(X) = 1/k \\sum x_i$\n",
    "\n",
    "$var(X) = 1/k \\left[ \\sum x_i^2 - \\frac{(\\sum x_i)^2}{k}  \\right ]$\n"
   ]
  },
  {
   "cell_type": "markdown",
   "metadata": {},
   "source": [
    "# Distribuição de Bernoulli\n",
    "\n",
    "Muitos experimentos são formulados de forma a apresentar (ou não) determinada característica.\n",
    "\n",
    "Por exemplo: lançar moeda = cara ou cora\n",
    "\n",
    "lançar dado = ocorre ou não 5 e etc.\n",
    "\n",
    "Estamos interessados na ocorrência do sucesso ou fracasso. \n",
    "\n",
    "Para cada experimento assim, podemos assumir uma v.a. X que assume apenas dois valores: 1 se ocorrer sucesso, ou 0 se ocorrer fracasso.\n",
    "\n",
    "Indicaremos por p a probabilidade de sucesso: P(Sucesso) = P(S) = p, $0 < p < 1$"
   ]
  },
  {
   "cell_type": "markdown",
   "metadata": {},
   "source": [
    "A v.a. X que assume apenas valores 0 ou 1 com função de probabilidade (x, p(x)) tal que:\n",
    "\n",
    "$p(0) = P (X = 0) = 1-p$\n",
    "\n",
    "$p(1) = P (X = 1) = p$ é chamada de variável aleatória de Bernoulli.\n",
    "\n",
    "$E(X) = p$\n",
    "\n",
    "$var(X) = p - p^2 = p(1 - p)$\n",
    "\n",
    "$F(X) = $\n",
    "\n",
    "0, se $ x < 0$\n",
    "\n",
    "1 - p, se $0 \\leq x < 1$\n",
    "\n",
    "1, se $x \\geq 1$\n",
    "\n",
    "Experimentos que resultam numa v.a de Bernoulli são chamados de ensaios de Bernoulli, usaremos a notação:\n",
    "\n",
    "$X ~ Ber(p)$, para indicar uma v.a. com distribuição de bernoulli com parâmetro p.\n"
   ]
  },
  {
   "cell_type": "markdown",
   "metadata": {},
   "source": [
    "# Distribuição Binomial\n",
    "\n",
    "Imagine agora que repetimos um ensaio de Bernoulli n vezes, com repetições independentes (um ensaio não influe no outro). Cada ensaio de Bernoulli será registrado como falha ou sucesso (0 para falha 1 para sucesso).\n",
    "\n",
    "Dessa forma, se jogassemos uma moeda 5 vezes e tivesses 3 caras (será nosso sucesso = [1,0,1,0,1]) e 2 coroas (falha), teremos usando a notação de bernoulli:\n",
    "\n",
    "P(0) = 1 - p\n",
    "p(1) = p\n",
    "\n",
    "=> p(1-p)p(1-)p = $p^3(1-p)^2$\n"
   ]
  },
  {
   "cell_type": "markdown",
   "metadata": {},
   "source": [
    "Vamos analisar algumas situações em que a binomial nos pode ser útil:\n",
    "\n",
    "1 - Moeda lançada 3 vezes, qual a probabilidade de se obter duas caras?\n",
    "\n",
    "Vamos indicar cara como sucesso = S, e coroa como fracasso = F\n",
    "\n",
    "A probabilidade de cair cara ou coroa em cada jogada é de 1/2.\n",
    "\n",
    "Nosso evento de interesse é A: (SSF, SFS, FSS) = [(1,1,0),(1,0,1),(0,1,1)]\n",
    "\n",
    "P(A) = P(SSF) + P(SFS) + P(FSS) = 1/2 * 1/2 * 1/2 + 1/2 * 1/2 * 1/2 + 1/2 * 1/2 * 1/2 = 3/8\n",
    "\n",
    "Assim se a probabilidade de sucesso for = p, e a de falha for = q = 1-p =>\n",
    "\n",
    "P(A) = $p^2*q + p^2*q + p^2*q = 3p^2q = 3 . (1/2)^2 . 1/2 = 3/8$\n",
    "\n",
    "Uma característica interessante dos experimentos é que geralmente não importa a sequência de de sucessos, estamos interessados apenas no resultado total.\n",
    "\n",
    "Vamos chamar de X o número total de sucesso em n ensaios de Bernoulli, com probabilidade de sucesso = p =>\n",
    "\n",
    "0 < p < 1.\n",
    "\n",
    "Os possíveis valores de X são 0,1,2...,n, e os pares (x, p(x)), onde p(x) = P(X = x) constituem a distribuição binomial.\n",
    "\n",
    "Vamos obter P(X = k), a probabilidade de obter k sucessos em n ensaios de Bernoulli.\n",
    "\n",
    "$p^k(1-p)^{n-k} = p^kq^{n-k}$ (devido a independência dos ensaios)\n",
    "\n",
    "existem $\\begin{bmatrix}n \\\\ k \\end{bmatrix}$ sequências possíveis, de modo que:\n",
    "\n",
    "$\\begin{bmatrix}n \\\\ k \\end{bmatrix} = \\frac{n!}{k!(n-k)!}$,\n",
    "\n",
    "de modo que P(X = k) = $\\begin{bmatrix}n \\\\ k \\end{bmatrix}p^kq^{n-k}$, k = 0,1...n\n",
    "\n",
    "Essas probabilidades serão indicadas por b(k;n,p), e quando a v.a X tiver dist. binomial com parâmetros n,p \n",
    "\n",
    "X ~ b(n,p)"
   ]
  },
  {
   "cell_type": "markdown",
   "metadata": {},
   "source": [
    "Vamos analisar a situação em que 10 peças são extraídas ao acaso, sem reposição em um lonte com 500 peças. Qual a probabilidade de todas serem defeituosas, dado que 10% do lote é defeituoso?\n",
    "\n",
    "Temos que n = 10 ensaios de Bernoulli, cada um com P(S) = 0.1\n",
    "\n",
    "Se X indica o número de peças na amostra, queremos calcular P(X = 10) = b(10;10,1/10), logo =>\n",
    "\n",
    "$P(X = 10) = \\begin{bmatrix}10 \\\\ 10 \\end{bmatrix}(1/10)^{10}(9/10)^{10-10} = (1/10){^10} = 1/10^{10}$\n",
    "\n",
    "*Lembre se que q = 1 - p = 1 - 1/10 = 9/10 neste caso\n"
   ]
  },
  {
   "cell_type": "markdown",
   "metadata": {},
   "source": [
    "Temos que\n",
    "\n",
    "E(X) = np,\n",
    "\n",
    "var(X) = npq"
   ]
  },
  {
   "cell_type": "markdown",
   "metadata": {},
   "source": [
    "# Distribuição Hipergeométrica\n",
    "\n",
    "Esta distribuição é adequada quando temos extrações sem reposição de uma população dividida em 2 atributos.\n",
    "\n",
    "Considere uma população de N elementos;\n",
    "\n",
    "Destes elementos, r tem o atributo A;\n",
    "\n",
    "Logo N-r tem o atributo B.\n",
    "\n",
    "Se um grupo de n elementos for escolhido ao acaso sem reposição, estamos interesasdos em saber a probabilidade deste grupo n conter k elementos com o atributo A.\n",
    "\n",
    "Esta probabilidade é dada por:\n",
    "\n",
    "$p_k = \\frac{\\begin{bmatrix}r \\\\ k \\end{bmatrix}\\begin{bmatrix}N - r \\\\ n - k \\end{bmatrix}}{\\begin{bmatrix}N \\\\ n \\end{bmatrix}}$, onde $0 \\leq k \\leq min(r,n)$\n",
    "\n",
    "os pares (k, $p_k$) constitutem a distribuição hipergeométrica, se definirmos a v.a X como o número de elementos na amostra com o atributo A, então P(X = k) = $p_k$"
   ]
  },
  {
   "cell_type": "markdown",
   "metadata": {},
   "source": [
    "Analisemos um exemplo:\n",
    "\n",
    "Suponha um lote de N = 100 peças;\n",
    "\n",
    "r = 10 são defeituosas (atributo A);\n",
    "\n",
    "escolhendo 5 peças sem reposição, qual a probabilidade de não se obter peças defeituosas?\n",
    "\n",
    "$p_0 = p_k = \\frac{\\begin{bmatrix}10 \\\\ 0 \\end{bmatrix}\\begin{bmatrix}90 \\\\ 5 \\end{bmatrix}}{\\begin{bmatrix}100 \\\\ 5 \\end{bmatrix}} \\approx 0.584$\n",
    "\n",
    "A probabilidade de se obter pelo menos 1 defeituosa é $1 - p_0 = 0.426$\n",
    "\n",
    "temos que:\n",
    "\n",
    "E(X) = np\n",
    "\n",
    "$var(X) = np(1-p)\\frac{N-n}{N-1}$\n",
    "\n",
    "Quando N for muito grande em relação a n, reposições faram pouca diferença na probabilidade, de modo que a probabilidade se aproxima de uma b(k;n,p), do mesmo modo E(X) e var(X) se aproximam da binomial.\n",
    "\n",
    "v.a com distribuição hipergeométrica será denominada como X ~ hip(N, r, $n^k$)"
   ]
  },
  {
   "cell_type": "markdown",
   "metadata": {},
   "source": [
    "# Distribuição de Poisson\n",
    "\n",
    "Na distribuição binomial, quando temos n grande e p pequeno, podemos aproximar as probabilidades por:\n",
    "\n",
    "# $\\frac{e^{-np}(np)^k}{k!}$, k = 0,1,...n\n",
    "\n"
   ]
  },
  {
   "cell_type": "markdown",
   "metadata": {},
   "source": [
    "Essas probabilidades, calculadas para todos os valores inteiros não negativos k, constituem a distribuição de poisson.\n",
    "\n",
    "A aproximação $b(k;n,p) \\approx \\frac{e^{-np}(np)^k}{k!}$ é boa se n for grande e p pequeno e de tal sorte que $np \\leq 7$\n",
    "\n",
    "Considere o seguinte caso: aproximar b(2; 1000, 0.00001), temos que o resultado é $\\approx 0.0045$\n",
    "\n",
    "A medida que k cresce as probabilidades decaem, de forma que vão ficando desprezíveis para k > 5~6"
   ]
  },
  {
   "cell_type": "markdown",
   "metadata": {},
   "source": [
    "A distribuição de poisson é amplamente utilizada quando se deseja conter o número de eventos de certo tipo que ocorrem em um intervalo de tempo, por exemplo:\n",
    "\n",
    "- Número de chamadas recebidas em 5 minutos;\n",
    "\n",
    "- Número de falhas de um computador em um dia;\n",
    "\n",
    "- Número de relatórios de acidentes enviados em uma semana.\n",
    "\n",
    "dizemos que uma v.a N tem distribuição de Poisson com parâmetro $\\lambda > 0$ se \n",
    "\n",
    "# $P(N = k) = \\frac{e^{-\\lambda}\\lambda^k}{k!}$, k = 0,1,2...n\n",
    "\n",
    "temos que\n",
    "\n",
    "E(N) = var(N) = $\\lambda$, assim $\\lambda$ representa o número médio de eventos ocorrendo em um intervalo de tempo. (note que assumimos que a probabilidade de se obter um evento em um espaço de tempo minúsculo é desprezível)\n",
    "\n",
    "Vamos analisar um exemplo:"
   ]
  },
  {
   "cell_type": "markdown",
   "metadata": {},
   "source": [
    "Cada núcleo de urânio tem $4.9 \\times 10^{-18}$ chance de se desintegrar, considere então um número grande n de núcleos, e a v.a N = número de núcleos que se desintegram.\n",
    "\n",
    "Admitindo que um núcleo se desintegrar não afeta o outro (independência), a v.a N tem distribuição binomial com parâmetros n e p. Logo, estamos em uma situação que podemos usar a poisson (n grande e p pequeno).\n",
    "\n",
    "considere n = $7.6 \\times 10^{17}$ núcleos, temos que $\\lambda = 3.6 = np$, e portanto a aproximação de poisson pode ser uma boa probabilidade =>\n",
    "\n",
    "Por exemplo, para k = 0 temos que $P(N = 0) = 0.025$, para k = 19 temos que a probabilidade é quase desprezível, sendo de $10^{-6}$\n",
    "\n"
   ]
  },
  {
   "cell_type": "markdown",
   "metadata": {},
   "source": [
    "Temos que a probabilidade de k ocorrências em um intervalo fixo de tempo t na distribuição de poisson pode ser escrita como:\n",
    "\n",
    "$P(N = k) = \\frac{e^{-\\lambda}(\\lambda t)^k}{k!}$, k = 0,1,2...\n",
    "\n",
    "Definimos uma v.a N com dist. de poisson e parâmetro $\\lambda$ por:\n",
    "\n",
    "N~ Pois($\\lambda$)"
   ]
  },
  {
   "cell_type": "markdown",
   "metadata": {},
   "source": [
    "# Modelos para variáveis discretas\n",
    "\n",
    "![Modelos para variáveis discretas](media/mods_discretas.jpg)"
   ]
  },
  {
   "cell_type": "code",
   "execution_count": null,
   "metadata": {},
   "outputs": [],
   "source": []
  }
 ],
 "metadata": {
  "kernelspec": {
   "display_name": "Python 3",
   "language": "python",
   "name": "python3"
  },
  "language_info": {
   "codemirror_mode": {
    "name": "ipython",
    "version": 3
   },
   "file_extension": ".py",
   "mimetype": "text/x-python",
   "name": "python",
   "nbconvert_exporter": "python",
   "pygments_lexer": "ipython3",
   "version": "3.7.4"
  }
 },
 "nbformat": 4,
 "nbformat_minor": 4
}
