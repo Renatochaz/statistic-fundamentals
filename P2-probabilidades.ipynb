{
 "cells": [
  {
   "cell_type": "markdown",
   "metadata": {},
   "source": [
    "# Introdução a probabilidades\n",
    "\n",
    "Na primeira parte estudamos as frequências com que os eventos ocorrem. Essas frequências são estimativas da probabilidade de certo evento ocorrer. Com as suposições certas, podemos criar um modelo teórico que reproduza razoavelmente bem uma certa distribuição de frequência sem observar diretamente o fenômeno de interesse: Este é um modelo probabilístico.\n",
    "\n",
    "Exemplo 1.1\n",
    "Imagine um dado de 6 faces. Se lançarmos o dado n vezes e contarmos cada ocorrencia ($n_i$), as proporcoes $n_i/n$ determinam nossa distribuição de frequências.\n",
    "\n",
    "Se lançarmos o dado novamente n vezes, teremos outra distribuição de frequência, mas com um padrão semelhante a vez anterior.\n",
    "\n",
    "Podemos criar o modelo probabilístico da seguinte forma:\n",
    "\n",
    "Assumimos que o dado tem a mesma chance de cair em cada face e que só temos 6 faces. Dessa forma, quando lançarmos o dado n vezes, cada face deve ocorrer o mesmo número de vezes (devido a suposição 1), assim a proporção com que cada face deve cair é de 1/6. \n",
    "\n",
    "\n",
    "Disso observamos que os experimentos terá seu modelo probabilístico quando estabelecermos:\n",
    "\n",
    "- $\\Omega$: O espaço amostral do experimento, que consiste no caso discreto dos resultados possíveis do experimento: $\\Omega = {\\omega_1, \\omega_2,...,\\omega_n}$.\n",
    "\n",
    "- Uma probabilidade ($P(\\omega$) de cada ponto amostral, de forma que seja possível encontrar a probabilidade de um subconjunto de evento de $\\Omega$: $P(A)$\n",
    "\n",
    "Vamos analisar estes elementos com um exemplo:\n",
    "\n",
    "Exemplo 1.2\n",
    "\n",
    "Vamos lançar uma moeda 2 vezes. C indica coroa, e R indica cara. O nosso espaço amostral é o seguinte:\n",
    "\n",
    "$\\Omega = (\\omega_1,\\omega_2,\\omega_3,\\omega_4)$, pois temos as seguintes possibilidades de eventos que podem ocorrer:\n",
    "\n",
    "$\\Omega = (CC,CR,RC,RR)$.\n",
    "\n",
    "Se a moeda não favorecer nenhum lado em especial, podemos assumir que a chance de cada um desses eventos ocorrer é a mesma: 1/4\n",
    "\n",
    "Qual a chance de um evento A ocorrer, onde A é o evento de termos as duas faces iguais?\n",
    "\n",
    "Os eventos com faces iguais são CC e RR, cada um com 1/4 de probabilidade de ocorrer, dessa forma a chance desse conjunto A ocorrer é de : 1/4 + 1/4 = 2/4 = 1/2.\n",
    "\n",
    "A fórmula geral é a seguinte:\n",
    "\n",
    "$P(A) = \\sum_j P(\\omega_j)$, com a soma sendo todos os pontos amostrais de $w_j \\in A$"
   ]
  },
  {
   "cell_type": "markdown",
   "metadata": {},
   "source": [
    "# Exercícios \n",
    "\n",
    "1 - Uma urna contém duas bolas brancas (B) e três vermelhas (V). Retira-se uma bola ao acaso, se for branca lança-se uma moeda, se for vermelha ela é devolvida à urna e retira-se outra. Qual o espaço amostral do experimento?\n",
    "\n",
    "$\\Omega = (BC,BR,VBC,VBR,VVBC,VVBR,VVVBC,VVVBR)$ onde C = cara e R = coroa no arremesso da moeda."
   ]
  },
  {
   "cell_type": "markdown",
   "metadata": {},
   "source": [
    "3 - Três jogadores (A,B,C) disputam um torneio. Inicialmente A joga com B e o vencedor joga com C e assim em diante. O torneio termina quando alguém ganha duas vezes seguidas ou quando são disputadas quatro partidas. Qual o espaço amostral?\n",
    "\n",
    "$\\Omega = (AA,ACC,ACBB,ACBA,BB,BCC,BCAA,BCAB)$"
   ]
  },
  {
   "cell_type": "markdown",
   "metadata": {},
   "source": [
    "# Propriedades\n",
    "\n",
    "Temos que para qualquer evento A: \n",
    "\n",
    "> $0 < P(A) < 1$;\n",
    "\n",
    "Sendo $ \\Omega $ o espaço amostral inteiro, e $\\phi$ o conjunto vazio, a probabilidade do espaço todo é um evento certo, e do conjunto vazio é um evento impossível:\n",
    "\n",
    "> $P(\\Omega) = 1$, $P(\\phi) = 0$"
   ]
  },
  {
   "cell_type": "code",
   "execution_count": 8,
   "metadata": {},
   "outputs": [],
   "source": [
    "# Importar bibiliotecas\n",
    "import numpy as np\n",
    "import pandas as pd\n",
    "import math"
   ]
  },
  {
   "cell_type": "code",
   "execution_count": 7,
   "metadata": {},
   "outputs": [
    {
     "name": "stdout",
     "output_type": "stream",
     "text": [
      "Sexo                     Feminino  Masculino  All\n",
      "Curso                                            \n",
      "Computação (C)                 10         20   30\n",
      "Estatística (E)                20         10   30\n",
      "Matemática aplicada (A)        15         15   30\n",
      "Matemática pura (M)            40         70  110\n",
      "All                            85        115  200\n"
     ]
    }
   ],
   "source": [
    "# Criando nova base de dados\n",
    "tabela_2_5_1 = pd.DataFrame ({'Curso': ['Matemática pura (M)']*110 + ['Matemática aplicada (A)']*30 + ['Estatística (E)']*30 + ['Computação (C)']*30 ,\n",
    "                            'Sexo': ['Masculino']*70 + ['Feminino']*40 + ['Masculino']*15 + ['Feminino']*15 + ['Masculino']*10 + ['Feminino']*20 + ['Masculino']*20 + ['Feminino']*10})\n",
    "\n",
    "# Tabela de distribuição conjunta\n",
    "tab_2_5_1 = pd.crosstab (index = tabela_2_5_1['Curso'],\n",
    "                      columns = tabela_2_5_1['Sexo'],\n",
    "                      margins = True)\n",
    "print(tab_2_5_1)\n",
    "# Exportando\n",
    "#tabela_2_5_1.to_csv('Tabelas/tabela_2_5_1.csv',index = False)"
   ]
  },
  {
   "cell_type": "markdown",
   "metadata": {},
   "source": [
    "Vamos indicar por M um evento que ocorre se, ao selecionarmos aleatoriamente um aluno deste espaço amostral, ele seja do curso de matematica pura. (A,E,C,H,F tem significados análogos)\n",
    "\n",
    "Vemos que P(E) = 30/200 e P(H) = 115/200, e P(A) = 30/200\n",
    "\n",
    "Vamos considerar dois novos eventos:\n",
    "\n",
    "- $A \\cup H$ é a união de A com H, quando ao menos um dos eventos ocorre;\n",
    "- $A \\cap H$ é a intersecção de A com H, quando A e H ocorrem simultaneamente;\n",
    "\n",
    "Vemos que a intersecção de A com H tem probabilidade de 15/200 (olhar tabela), mas e a união?\n",
    "\n",
    "Se fizermos: $P(A \\cup H) = P(A) + P(H) = 145/200$ estamos contando duas vezes os alunos que são homens do curso de aplicada, portanto precisamos levar isso em consideração:\n",
    "\n",
    "$P(A \\cup H) = P(A) + P(H) - P(A\\cap H)= 130/200$"
   ]
  },
  {
   "cell_type": "markdown",
   "metadata": {},
   "source": [
    "Temos que P(A) = 30/200 e P(C) = 30/200, assim $P(A \\cup C) = 60/200 = P(A) + P(C)$, pois os eventos são mutualmente exclusivos: $A \\cap C = \\phi = P(A \\cap C) = 0$\n",
    "\n",
    "Assim se U e V são dois eventos qualquer:\n",
    "\n",
    "$P(U \\cup V) = P(U) + P(V) - P(U \\cap V)$\n",
    "\n",
    "Se $A \\cup B = \\Omega = P(A \\cup B) = 1$, então $A \\cap B = \\phi$, dizemos que A e B são complementares: $A^c$ é o complementar de um evento qualquer A e $P(A) + P(A^c) = 1$\n",
    "\n",
    "\n",
    "As operaçoes aqui descritas tem as seguintes propriedades:\n",
    "\n",
    "> $(A \\cap B)^c = A^c \\cup B^c$\n",
    "\n",
    "> $(A \\cup B)^c = A^c \\cap B^c$\n",
    "\n",
    "> $A \\cup \\phi = \\phi, A \\cup \\Omega = A$\n",
    "\n",
    "> $\\phi^c = \\Omega, \\Omega^c = \\phi$\n",
    "\n",
    "> $A \\cap A^c = \\phi$\n",
    "\n",
    "> $A \\cup A^c = \\Omega$\n",
    "\n",
    "> $A \\cup \\phi = A, A \\cup \\Omega = \\Omega$\n",
    "\n",
    "> $A \\cap (B \\cup C) = (A \\cap B) \\cup (A \\cap C)$"
   ]
  },
  {
   "cell_type": "markdown",
   "metadata": {},
   "source": [
    "Imagine um espaço amostral finito  tal que $\\Omega = (\\Omega_1,....,\\Omega_n)$, em que todos os pontos tem a mesma probabilidade 1/n de ocorrer, então se A for um evento contendo m pontos:\n",
    "\n",
    "$P(A) = m/n$\n",
    "\n",
    "Suponha um lote com 20 peças e 5 dessas são defeituosas. Ao escolher 4 amostras ao acaso, podemos extrair:\n",
    "\n",
    "$\\begin{pmatrix}\n",
    "20\\\\ 4 \n",
    "\\end{pmatrix}$ , ou seja combinações de 20 elementos tiradas de 4 a 4. Queremos a probabilidade de tirar duas defeituosas da amostra:\n",
    "\n",
    "$m = \\begin{pmatrix}\n",
    "5\\\\ 2 \n",
    "\\end{pmatrix}\\begin{pmatrix}\n",
    "15\\\\ 2 \n",
    "\\end{pmatrix}$\n",
    "\n",
    "Pois podemos escohar da amostra 2 defeituosas (de 5) e 2 não defeituosas (de 15), assim:\n",
    "\n",
    "$P(A) = \\frac{m}{\\begin{pmatrix}20\\\\4\\end{pmatrix}}= 0,217$"
   ]
  },
  {
   "cell_type": "markdown",
   "metadata": {},
   "source": [
    "Imagine o jogo da megasena que tem $\\begin{pmatrix}\n",
    "60\\\\ 6 \n",
    "\\end{pmatrix}$ possibilididades, para calcular usamos a combinação simples (onde ordem não importa):\n",
    "\n",
    "$C_{n,p} = \\frac{n!}{p!(n-p)!}$ = 50.063.860"
   ]
  },
  {
   "cell_type": "code",
   "execution_count": 15,
   "metadata": {},
   "outputs": [
    {
     "data": {
      "text/plain": [
       "50063860.0"
      ]
     },
     "execution_count": 15,
     "metadata": {},
     "output_type": "execute_result"
    }
   ],
   "source": [
    "n = 60\n",
    "p = 6\n",
    "math.factorial(n)/(math.factorial(p)*math.factorial(n-p))"
   ]
  },
  {
   "cell_type": "markdown",
   "metadata": {},
   "source": [
    "# Probabilidade condicional e independência\n",
    "\n",
    "No exemplo da tabela 2_5_1, qual a probabilidade de escolhermos ao acaso uma mulher do curso de estatística? \n",
    "\n",
    "P(Mulher|Estatística) = 20/30 = 2/3\n",
    "\n",
    "Para dois eventos quaisquers A e B, sendo P(B) > 0, a probabilidade condicial de A dado B é P(A|B):\n",
    "\n",
    "$P(A|B) = \\frac{P(A \\cap B)}{P(B)}$\n",
    "\n",
    "Sendo A o aluno ser mulher e B aluno matriculado em estatística:\n",
    "\n",
    "$P(A|B) = \\frac{20/200}{30/200} = 2/3$\n",
    "\n",
    "Observe que P(A) = 85/200, essa é a probabilidade a priori de A, mas com a informação que B ocorreu temos que P(A|B) = 2/3, que é a probabilidade a posteriori de A, que vem com a informação adicional que B ocorreu.  Note que P(A|B) > P(A) neste caso, então a informação que B ocorreu aumentou a chande de A ocorrer. \n",
    "\n",
    "Desta relação temos a regra do produto de probabilidades:\n",
    "\n",
    "> $P(A\\cap B) = P(B) P(A|B)$"
   ]
  },
  {
   "cell_type": "markdown",
   "metadata": {},
   "source": [
    "Vamos a outro exemplo:\n",
    "\n",
    "Uma urna contém duas bolas brancas (B) e três vermelhas (V). Suponha que sorteamos duas bolas ao acaso, sem reposição. Se A indica o evento: Bola branca na segunda extração:\n",
    "\n",
    "$P(A) = P(BB) + P(VB) = 2/5 * 1/4 + 3/5*2/4 = 2/20 + 6/20 = 8/20 = 2/5$ "
   ]
  },
  {
   "cell_type": "markdown",
   "metadata": {},
   "source": [
    "Imagine agora que a extração é feita da mesma forma, porém a bola extraída é reposta na urna. Dessa forma as extrações são independentes, pois a extração de uma não tem efeito na outra:\n",
    "\n",
    "A = bola branca na segunda extração e B = bola branca na primeira extração:\n",
    "\n",
    "P(A|B) = 2/5 = P(A), ou seja, o evento A independe do evento B: $P(A \\cap B) = P(A) P(B)$\n",
    "\n",
    "A e B são independentes somente se  $P(A \\cap B) = P(A) P(B)$ for válido."
   ]
  },
  {
   "cell_type": "markdown",
   "metadata": {},
   "source": [
    "Agora considere essa mesma urna e faremos 3 extrações sem reposição, temos que:\n",
    "\n",
    "$P(A \\cap B \\cap C) = P(A) P(B|A) P(C|A \\cap B)$, essa relação pode ser extendida para um número finito qualquer de eventos."
   ]
  },
  {
   "cell_type": "markdown",
   "metadata": {},
   "source": [
    "# Teorema de Bayes\n",
    "\n",
    "Uma das relações mais importantes em probabilidades condicionais é dada pelo teorema de bayes:\n",
    "\n",
    "$P(A|B) = \\frac{P(A\\cap B)}{P(B)} = \\frac{P(A)P(B|A)}{P(B)}$\n",
    "\n",
    "Como vimos anterioremente, a probabilidade a posteriori P(A|B) é obtida com P(A) e a informação que  o evento B ocorreu, ou seja, atualizamos a probabilidade inicial P(A), multiplicando-a por P(B|A)/P(B). \n",
    "\n",
    "Note que P(A|B) > P(A) se P(B|A) > P(B).\n",
    "\n",
    "Vamos a um exemplo para entender o teorema de bayes:\n"
   ]
  },
  {
   "cell_type": "markdown",
   "metadata": {},
   "source": [
    "Temos cinco urnas, cada uma com seis bolas. Duas urnas são do tipo $C_1$ e tem três bolas brancas, duas outras são do tipo $C_2$ e tem duas bolas brancas, e a última urna $C_3$ tem 6 bolas brancas. \n",
    "\n",
    "Escolhemos uma urna ao acaso e dela retiramos uma bola. Sabendo que a bola sorteada é branca, qual a probabilidade da urna escolhida ser do tipo $C_3$?\n",
    "\n",
    "Queremos encontrar $P(C_3|B)$, e sabemos que:\n",
    "\n",
    "$P(C_1) = 2/5$\n",
    "\n",
    "$P(C_2) = 2/5$\n",
    "\n",
    "$P(C_3) = 1/5$\n",
    "\n",
    "$P(B|C_1) = P(B \\cap C_1)/P(C_1) = 6/30/2/5 = 1/2$ \n",
    "\n",
    "$P(B|C_2) = P(B \\cap C_2)/P(C_2) = 4/30/2/5 = 1/3$ \n",
    "\n",
    "$P(B|C_3) = P(B \\cap C_3)/P(C_3) = 6/30/1/5 = 1$ \n",
    "\n",
    "Temos que:\n",
    "\n",
    "$P(C_3|B) = \\frac{P(C_3 \\cap B)}{P(B)} = \\frac{P(C_3)P(B|C_3)}{P(B)} = \\frac{1/5*1}{P(B)}$\n",
    "\n",
    "Só precisamos encontrar P(B):\n",
    "\n",
    "Sabemos que os eventos C formam o espaço amostral completo de B, e que são mutualmente exclusivos, assim:\n",
    "\n",
    "$B = (C_1 \\cap B) \\cup (C_2 \\cap B) \\cup (C_3 \\cap B)$ =>\n",
    "\n",
    "$P(B) = P(C_1 \\cap B) + P(C_2 \\cap B) + P(C_3 \\cap B) = P(C_1) P(B|C_1) + P(C_2) P(B|C_2) + P(C_3) P(B|C_3) = 8/15$\n",
    "\n",
    "então: $P(C_3|B) = \\frac{1/5*1}{8/15} = 15/40 = 3/8$\n"
   ]
  },
  {
   "cell_type": "markdown",
   "metadata": {},
   "source": [
    "Agora generalizando os resultados:\n",
    "\n",
    "Seja $(C_1,...,C_n)$ uma partição do espaço amostral $\\Omega$:\n",
    "\n",
    "$C_i \\cap C_j = \\phi$, sempre que $i \\neq j$ e $C_1 \\cup ... C_n = \\Omega$\n",
    "\n",
    "Considerando um evento qualquer A em $\\Omega$, conhecendo as probabilidades $P(C_i)$ e $P(A|C_i)$, a probabilidade do evento $C_i$ ocorrer supondo que A ocorreu é :\n",
    "\n",
    "# $P(C_i|A) = \\frac{P(C_i)P(A|C_i)}{\\sum_{j=1}^nP(C_j)P(A|C_j)}$ (Teorema de Bayes)"
   ]
  },
  {
   "cell_type": "markdown",
   "metadata": {},
   "source": [
    "Podemos pensar como os eventos $C_i$ como um conjunto de hipóteses, com apenas um deles sendo verdadeiro. Dado que A ocorreu, a probabilidade inicial de $C_i$ é modificada de forma a obter $P(C_i|A)$, assim passamos da probabilidade a priori $P(C_i)$ para a posteriori $P(C_i|A)$, multiplicando a priori por: $\\frac{P(A|C_i)}{\\sum_{j=1}^nP(C_j)P(A|C_j)}$"
   ]
  },
  {
   "cell_type": "markdown",
   "metadata": {},
   "source": [
    "O teorema de bayes é o teorema fundamental da inferência bayesiana, pois oferece um mecanismo formal para atualizar probabilidades.\n",
    "\n",
    "Vamos analisar mais um exemplo:"
   ]
  },
  {
   "cell_type": "markdown",
   "metadata": {},
   "source": [
    "A divulgação de probabilidade de queda na bolsa após um pregão, baseando-se nas informações disponíveis até o momento. A previsão inicial é de 0.10, após o pregão chega uma notícia nova, e a experiência passada indica que quando houve queda na bolsa, 20% das vezes foram precendidas por essa notícia, enquanto nos dias que a bolsa está em alta, apenas 5% das vezes essa notícia ocorreu no dia anterior.\n",
    "\n",
    "E é o evento que indica queda na bolsa, sua probabilidade a priori é de 0.10. P(E) = 0.1, enquanto a probabilidade de alta é $P(E^c) = 0.9$.\n",
    "\n",
    "Se B indica a alta do dólar (notícia recebida), então as verossimilhanças são: $P(B|E) = 0.2$ e $P(B|E^c) = 0.05$ \n",
    "\n",
    "Então pelo teorema de bayes:\n",
    "\n",
    "$P(E|B) = \\frac{P(E)P(B|E)}{P(E)P(B|E)+P(E^c)P(B|E^c)} = 0,31$ portanto, com a nova informação aumentou-se a probabilidade de queda na bolsa de 10% para 31%."
   ]
  },
  {
   "cell_type": "markdown",
   "metadata": {},
   "source": [
    "Suponha agora que surgiu uma nova informação: O BC irá reduzir a taxa de juros no dia seguinte. Agora temos o evento $B_1$ alta do dólar, e $B_2$ redução de juros. Como essa nova informação $B_2$ afeta a nossa probabiliddes $P(E|B_1)$?\n",
    "\n",
    "Agora temos que $P(E|B_1)$ é nossa priori (ao invés de posteriori) em relação ao evento $B_2$.\n",
    "\n",
    "Informações passadas mostram que quando houve queda na bolsa e alta do dólar, 10% das vezes foram precedidas por notícias de quedas de juros, enquanto que tendo havido alta no dólar e alta da bolsa, 60% das vez foram precedidas quedas nos juros. Então nossas verossimilhanças serão:\n",
    "\n",
    "$P(B_2|E,B_1) = 0,1$\n",
    "\n",
    "$P(B_2^|E^c,B_1) = 0,6$\n",
    "\n",
    "O teorema de bayes fica:\n",
    "\n",
    "$P(E|B_1,B_2) = \\frac{P(E|B_1)P(B_2|E,B_1)}{P(E|B_1)P(B_2|E,B_1)+ P(E^c|B_1)P(B_2|E^c,B_1)} = 0,07$"
   ]
  },
  {
   "cell_type": "markdown",
   "metadata": {},
   "source": [
    "# Exercícios"
   ]
  },
  {
   "cell_type": "markdown",
   "metadata": {},
   "source": [
    "26, 32, 36, 37, 57, 64"
   ]
  },
  {
   "cell_type": "code",
   "execution_count": null,
   "metadata": {},
   "outputs": [],
   "source": []
  }
 ],
 "metadata": {
  "kernelspec": {
   "display_name": "Python 3",
   "language": "python",
   "name": "python3"
  },
  "language_info": {
   "codemirror_mode": {
    "name": "ipython",
    "version": 3
   },
   "file_extension": ".py",
   "mimetype": "text/x-python",
   "name": "python",
   "nbconvert_exporter": "python",
   "pygments_lexer": "ipython3",
   "version": "3.7.4"
  }
 },
 "nbformat": 4,
 "nbformat_minor": 4
}
