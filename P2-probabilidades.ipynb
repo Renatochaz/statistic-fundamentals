{
 "cells": [
  {
   "cell_type": "markdown",
   "metadata": {},
   "source": [
    "# Introdução a probabilidades\n",
    "\n",
    "Na primeira parte estudamos as frequências com que os eventos ocorrem. Essas frequências são estimativas da probabilidade de certo evento ocorrer. Com as suposições certas, podemos criar um modelo teórico que reproduza razoavelmente bem uma certa distribuição de frequência sem observar diretamente o fenômeno de interesse: Este é um modelo probabilístico.\n",
    "\n",
    "Exemplo 1.1\n",
    "Imagine um dado de 6 faces. Se lançarmos o dado n vezes e contarmos cada ocorrencia ($n_i$), as proporcoes $n_i/n$ determinam nossa distribuição de frequências.\n",
    "\n",
    "Se lançarmos o dado novamente n vezes, teremos outra distribuição de frequência, mas com um padrão semelhante a vez anterior.\n",
    "\n",
    "Podemos criar o modelo probabilístico da seguinte forma:\n",
    "\n",
    "Assumimos que o dado tem a mesma chance de cair em cada face e que só temos 6 faces. Dessa forma, quando lançarmos o dado n vezes, cada face deve ocorrer o mesmo número de vezes (devido a suposição 1), assim a proporção com que cada face deve cair é de 1/6. \n",
    "\n",
    "\n",
    "Disso observamos que os experimentos terá seu modelo probabilístico quando estabelecermos:\n",
    "\n",
    "- $\\Omega$: O espaço amostral do experimento, que consiste no caso discreto dos resultados possíveis do experimento: $\\Omega = {\\omega_1, \\omega_2,...,\\omega_n}$.\n",
    "\n",
    "- Uma probabilidade ($P(\\omega$) de cada ponto amostral, de forma que seja possível encontrar a probabilidade de um subconjunto de evento de $\\Omega$: $P(A)$\n",
    "\n",
    "Vamos analisar estes elementos com um exemplo:\n",
    "\n",
    "Exemplo 1.2\n",
    "\n",
    "Vamos lançar uma moeda 2 vezes. C indica coroa, e R indica cara. O nosso espaço amostral é o seguinte:\n",
    "\n",
    "$\\Omega = (\\omega_1,\\omega_2,\\omega_3,\\omega_4)$, pois temos as seguintes possibilidades de eventos que podem ocorrer:\n",
    "\n",
    "$\\Omega = (CC,CR,RC,RR)$.\n",
    "\n",
    "Se a moeda não favorecer nenhum lado em especial, podemos assumir que a chance de cada um desses eventos ocorrer é a mesma: 1/4\n",
    "\n",
    "Qual a chance de um evento A ocorrer, onde A é o evento de termos as duas faces iguais?\n",
    "\n",
    "Os eventos com faces iguais são CC e RR, cada um com 1/4 de probabilidade de ocorrer, dessa forma a chance desse conjunto A ocorrer é de : 1/4 + 1/4 = 2/4 = 1/2.\n",
    "\n",
    "A fórmula geral é a seguinte:\n",
    "\n",
    "$P(A) = \\sum_j P(\\omega_j)$, com a soma sendo todos os pontos amostrais de $w_j \\in A$"
   ]
  },
  {
   "cell_type": "markdown",
   "metadata": {},
   "source": [
    "# Exercícios \n",
    "\n",
    "1 - Uma urna contém duas bolas brancas (B) e três vermelhas (V). Retira-se uma bola ao acaso, se for branca lança-se uma moeda, se for vermelha ela é devolvida à urna e retira-se outra. Qual o espaço amostral do experimento?\n",
    "\n",
    "$\\Omega = (BC,BR,VBC,VBR,VVBC,VVBR,VVVBC,VVVBR)$ onde C = cara e R = coroa no arremesso da moeda."
   ]
  },
  {
   "cell_type": "markdown",
   "metadata": {},
   "source": [
    "3 - Três jogadores (A,B,C) disputam um torneio. Inicialmente A joga com B e o vencedor joga com C e assim em diante. O torneio termina quando alguém ganha duas vezes seguidas ou quando são disputadas quatro partidas. Qual o espaço amostral?\n",
    "\n",
    "$\\Omega = (AA,ACC,ACBB,ACBA,BB,BCC,BCAA,BCAB)$"
   ]
  },
  {
   "cell_type": "markdown",
   "metadata": {},
   "source": [
    "# Propriedades"
   ]
  }
 ],
 "metadata": {
  "kernelspec": {
   "display_name": "Python 3",
   "language": "python",
   "name": "python3"
  },
  "language_info": {
   "codemirror_mode": {
    "name": "ipython",
    "version": 3
   },
   "file_extension": ".py",
   "mimetype": "text/x-python",
   "name": "python",
   "nbconvert_exporter": "python",
   "pygments_lexer": "ipython3",
   "version": "3.7.4"
  }
 },
 "nbformat": 4,
 "nbformat_minor": 4
}
