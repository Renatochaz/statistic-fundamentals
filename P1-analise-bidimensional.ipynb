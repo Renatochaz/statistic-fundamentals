{
 "cells": [
  {
   "cell_type": "markdown",
   "metadata": {},
   "source": [
    "Extendendo o conteúdo da primeira parte, agora iremos nos preocupar em como analisar o comportamento de duas ou mais variáveis, que é o que ocorre na prática. \n",
    "\n",
    "Os dados estão geralmente dispostos em formas de matriz, com $n$ indíviduos na primeira coluna e as subsequentes $p$ colunas: $x_1,x_2,...,x_p$ com as variáveis do estudo.\n",
    "\n",
    "Podemos ter três situações distintas ao trabalhar com mais de uma variável:\n",
    "\n",
    "- Todas são qualitativas;\n",
    "- Todas são quantitativas;\n",
    "- Associação entre quantitativas e qualitativas.\n",
    "\n",
    "Em cada caso as técnicas utilizadas são diferentes, porém o objetivo é sempre o mesmo: Encontrar se existe uma associação entre as variáveis.\n",
    "Considere o seguinte exemplo: Imagine uma população $A$, composta de homens e mulheres. Sabemos que geralmente existe uma associação entre sexo e altura - pessoas do sexo masculino tendem a serem mais altas. Dessa forma, qual seria a chance de encontrar uma pessoa nessa população A com mais de 1,70 do grupo dos homens? E do grupo de mulheres? Se a chance for diferente para os dois grupos, podemos dizer que existe uma associação entre sexo e altura. (mais para frente discutiremos associações espúrias)"
   ]
  },
  {
   "cell_type": "markdown",
   "metadata": {},
   "source": [
    "# Análise de variáveis qualitativas\n",
    "\n",
    "- Tabelas de dupla entrada\n",
    "\n",
    "    Vamos trabalhar com a tabela 2.1, nela iremos analisar o comportamento das váriaveis Y(grau de escolaridade) e V(região de procedência)."
   ]
  },
  {
   "cell_type": "code",
   "execution_count": 1,
   "metadata": {},
   "outputs": [],
   "source": [
    "# Importar bibiliotecas\n",
    "import numpy as np\n",
    "import pandas as pd\n",
    "import os\n",
    "\n",
    "# Ler tabela\n",
    "t21 = pd.read_csv(\"tabela_2_1.csv\")"
   ]
  },
  {
   "cell_type": "code",
   "execution_count": 75,
   "metadata": {},
   "outputs": [
    {
     "data": {
      "text/html": [
       "<div>\n",
       "<style scoped>\n",
       "    .dataframe tbody tr th:only-of-type {\n",
       "        vertical-align: middle;\n",
       "    }\n",
       "\n",
       "    .dataframe tbody tr th {\n",
       "        vertical-align: top;\n",
       "    }\n",
       "\n",
       "    .dataframe thead th {\n",
       "        text-align: right;\n",
       "    }\n",
       "</style>\n",
       "<table border=\"1\" class=\"dataframe\">\n",
       "  <thead>\n",
       "    <tr style=\"text-align: right;\">\n",
       "      <th></th>\n",
       "      <th>Fundamental</th>\n",
       "      <th>Médio</th>\n",
       "      <th>Superior</th>\n",
       "      <th>row_total</th>\n",
       "    </tr>\n",
       "  </thead>\n",
       "  <tbody>\n",
       "    <tr>\n",
       "      <td>Capital</td>\n",
       "      <td>4</td>\n",
       "      <td>5</td>\n",
       "      <td>2</td>\n",
       "      <td>11</td>\n",
       "    </tr>\n",
       "    <tr>\n",
       "      <td>Interior</td>\n",
       "      <td>3</td>\n",
       "      <td>7</td>\n",
       "      <td>2</td>\n",
       "      <td>12</td>\n",
       "    </tr>\n",
       "    <tr>\n",
       "      <td>Outra</td>\n",
       "      <td>5</td>\n",
       "      <td>6</td>\n",
       "      <td>2</td>\n",
       "      <td>13</td>\n",
       "    </tr>\n",
       "    <tr>\n",
       "      <td>col_total</td>\n",
       "      <td>12</td>\n",
       "      <td>18</td>\n",
       "      <td>6</td>\n",
       "      <td>36</td>\n",
       "    </tr>\n",
       "  </tbody>\n",
       "</table>\n",
       "</div>"
      ],
      "text/plain": [
       "           Fundamental  Médio  Superior  row_total\n",
       "Capital              4      5         2         11\n",
       "Interior             3      7         2         12\n",
       "Outra                5      6         2         13\n",
       "col_total           12     18         6         36"
      ]
     },
     "execution_count": 75,
     "metadata": {},
     "output_type": "execute_result"
    }
   ],
   "source": [
    "# Tabela de região x escolaridade\n",
    "tab_regiao = pd.crosstab(index=t21[\"V\"], \n",
    "                           columns=t21[\"Y\"],\n",
    "                          margins=True)\n",
    "tab_regiao.index = [\"Capital\",\"Interior\",\"Outra\",\"col_total\"]\n",
    "tab_regiao.columns = [\"Fundamental\",\"Médio\",\"Superior\",\"row_total\"]\n",
    "\n",
    "tab_regiao\n"
   ]
  },
  {
   "cell_type": "markdown",
   "metadata": {},
   "source": [
    "A tabela \"tab_regiao\" é uma tabela de dupla entrada usualmente utilizada para análises de duas variáveis qualitativas. Cada elemento nos dá a frequência observada de uma variável dada a outra, assim observamos que temos 4 pessoas com fundamental na capital, 3 com fundamental no interior e etc.\n",
    "\n",
    "Além das frequências absolutas, podemos trabalhar com frequências relativas, as nossas opções são:\n",
    "\n",
    "- Relação ao total geral;\n",
    "- Relação ao total de cada linha;\n",
    "- Relação ao total de cada coluna.\n",
    "\n",
    "Para cada estudo, uma ou outra será mais eficiente. Vamos analisar:"
   ]
  },
  {
   "cell_type": "code",
   "execution_count": 76,
   "metadata": {},
   "outputs": [
    {
     "data": {
      "text/html": [
       "<div>\n",
       "<style scoped>\n",
       "    .dataframe tbody tr th:only-of-type {\n",
       "        vertical-align: middle;\n",
       "    }\n",
       "\n",
       "    .dataframe tbody tr th {\n",
       "        vertical-align: top;\n",
       "    }\n",
       "\n",
       "    .dataframe thead th {\n",
       "        text-align: right;\n",
       "    }\n",
       "</style>\n",
       "<table border=\"1\" class=\"dataframe\">\n",
       "  <thead>\n",
       "    <tr style=\"text-align: right;\">\n",
       "      <th></th>\n",
       "      <th>Fundamental</th>\n",
       "      <th>Médio</th>\n",
       "      <th>Superior</th>\n",
       "      <th>row_total</th>\n",
       "    </tr>\n",
       "  </thead>\n",
       "  <tbody>\n",
       "    <tr>\n",
       "      <td>Capital</td>\n",
       "      <td>11.0</td>\n",
       "      <td>14.0</td>\n",
       "      <td>6.0</td>\n",
       "      <td>31.0</td>\n",
       "    </tr>\n",
       "    <tr>\n",
       "      <td>Interior</td>\n",
       "      <td>8.0</td>\n",
       "      <td>19.0</td>\n",
       "      <td>6.0</td>\n",
       "      <td>33.0</td>\n",
       "    </tr>\n",
       "    <tr>\n",
       "      <td>Outra</td>\n",
       "      <td>14.0</td>\n",
       "      <td>17.0</td>\n",
       "      <td>6.0</td>\n",
       "      <td>36.0</td>\n",
       "    </tr>\n",
       "    <tr>\n",
       "      <td>col_total</td>\n",
       "      <td>33.0</td>\n",
       "      <td>50.0</td>\n",
       "      <td>17.0</td>\n",
       "      <td>100.0</td>\n",
       "    </tr>\n",
       "  </tbody>\n",
       "</table>\n",
       "</div>"
      ],
      "text/plain": [
       "           Fundamental  Médio  Superior  row_total\n",
       "Capital           11.0   14.0       6.0       31.0\n",
       "Interior           8.0   19.0       6.0       33.0\n",
       "Outra             14.0   17.0       6.0       36.0\n",
       "col_total         33.0   50.0      17.0      100.0"
      ]
     },
     "execution_count": 76,
     "metadata": {},
     "output_type": "execute_result"
    }
   ],
   "source": [
    "# Tabela em relação ao total geral\n",
    "round(tab_regiao/tab_regiao.loc[\"col_total\",\"row_total\"]*100)"
   ]
  },
  {
   "cell_type": "markdown",
   "metadata": {},
   "source": [
    "Neste caso dividimos cada elemento pelo total geral da tabela (36 observações), isso nos dá a frequência relativa de toda a amostra: Sabemos que 31% da amostra é da capital, e que desses elementos capital: 11% tem fundamental, 14% médio e 6% superior."
   ]
  },
  {
   "cell_type": "code",
   "execution_count": 77,
   "metadata": {},
   "outputs": [
    {
     "data": {
      "text/html": [
       "<div>\n",
       "<style scoped>\n",
       "    .dataframe tbody tr th:only-of-type {\n",
       "        vertical-align: middle;\n",
       "    }\n",
       "\n",
       "    .dataframe tbody tr th {\n",
       "        vertical-align: top;\n",
       "    }\n",
       "\n",
       "    .dataframe thead th {\n",
       "        text-align: right;\n",
       "    }\n",
       "</style>\n",
       "<table border=\"1\" class=\"dataframe\">\n",
       "  <thead>\n",
       "    <tr style=\"text-align: right;\">\n",
       "      <th></th>\n",
       "      <th>Fundamental</th>\n",
       "      <th>Médio</th>\n",
       "      <th>Superior</th>\n",
       "      <th>row_total</th>\n",
       "    </tr>\n",
       "  </thead>\n",
       "  <tbody>\n",
       "    <tr>\n",
       "      <td>Capital</td>\n",
       "      <td>33.0</td>\n",
       "      <td>28.0</td>\n",
       "      <td>33.0</td>\n",
       "      <td>31.0</td>\n",
       "    </tr>\n",
       "    <tr>\n",
       "      <td>Interior</td>\n",
       "      <td>25.0</td>\n",
       "      <td>39.0</td>\n",
       "      <td>33.0</td>\n",
       "      <td>33.0</td>\n",
       "    </tr>\n",
       "    <tr>\n",
       "      <td>Outra</td>\n",
       "      <td>42.0</td>\n",
       "      <td>33.0</td>\n",
       "      <td>33.0</td>\n",
       "      <td>36.0</td>\n",
       "    </tr>\n",
       "    <tr>\n",
       "      <td>col_total</td>\n",
       "      <td>100.0</td>\n",
       "      <td>100.0</td>\n",
       "      <td>100.0</td>\n",
       "      <td>100.0</td>\n",
       "    </tr>\n",
       "  </tbody>\n",
       "</table>\n",
       "</div>"
      ],
      "text/plain": [
       "           Fundamental  Médio  Superior  row_total\n",
       "Capital           33.0   28.0      33.0       31.0\n",
       "Interior          25.0   39.0      33.0       33.0\n",
       "Outra             42.0   33.0      33.0       36.0\n",
       "col_total        100.0  100.0     100.0      100.0"
      ]
     },
     "execution_count": 77,
     "metadata": {},
     "output_type": "execute_result"
    }
   ],
   "source": [
    "# Tabela em relação ao total de cada coluna\n",
    "round(tab_regiao/tab_regiao.loc[\"col_total\"]*100)"
   ]
  },
  {
   "cell_type": "markdown",
   "metadata": {},
   "source": [
    "Aqui nos temos as proporções em relação a cada coluna, dessa forma podemos observar que do grupo da coluna 1 (fundamental), 33% são da capital, 25% do interior e 42% de outra categoria."
   ]
  },
  {
   "cell_type": "code",
   "execution_count": 82,
   "metadata": {},
   "outputs": [
    {
     "data": {
      "text/html": [
       "<div>\n",
       "<style scoped>\n",
       "    .dataframe tbody tr th:only-of-type {\n",
       "        vertical-align: middle;\n",
       "    }\n",
       "\n",
       "    .dataframe tbody tr th {\n",
       "        vertical-align: top;\n",
       "    }\n",
       "\n",
       "    .dataframe thead th {\n",
       "        text-align: right;\n",
       "    }\n",
       "</style>\n",
       "<table border=\"1\" class=\"dataframe\">\n",
       "  <thead>\n",
       "    <tr style=\"text-align: right;\">\n",
       "      <th></th>\n",
       "      <th>Fundamental</th>\n",
       "      <th>Médio</th>\n",
       "      <th>Superior</th>\n",
       "      <th>row_total</th>\n",
       "    </tr>\n",
       "  </thead>\n",
       "  <tbody>\n",
       "    <tr>\n",
       "      <td>Capital</td>\n",
       "      <td>36.0</td>\n",
       "      <td>45.0</td>\n",
       "      <td>18.0</td>\n",
       "      <td>100.0</td>\n",
       "    </tr>\n",
       "    <tr>\n",
       "      <td>Interior</td>\n",
       "      <td>25.0</td>\n",
       "      <td>58.0</td>\n",
       "      <td>17.0</td>\n",
       "      <td>100.0</td>\n",
       "    </tr>\n",
       "    <tr>\n",
       "      <td>Outra</td>\n",
       "      <td>38.0</td>\n",
       "      <td>46.0</td>\n",
       "      <td>15.0</td>\n",
       "      <td>100.0</td>\n",
       "    </tr>\n",
       "    <tr>\n",
       "      <td>col_total</td>\n",
       "      <td>33.0</td>\n",
       "      <td>50.0</td>\n",
       "      <td>17.0</td>\n",
       "      <td>100.0</td>\n",
       "    </tr>\n",
       "  </tbody>\n",
       "</table>\n",
       "</div>"
      ],
      "text/plain": [
       "           Fundamental  Médio  Superior  row_total\n",
       "Capital           36.0   45.0      18.0      100.0\n",
       "Interior          25.0   58.0      17.0      100.0\n",
       "Outra             38.0   46.0      15.0      100.0\n",
       "col_total         33.0   50.0      17.0      100.0"
      ]
     },
     "execution_count": 82,
     "metadata": {},
     "output_type": "execute_result"
    }
   ],
   "source": [
    "# Tabela em relação ao total de cada linha\n",
    "round(tab_regiao.div(tab_regiao[\"row_total\"],axis = 0)*100)"
   ]
  },
  {
   "cell_type": "markdown",
   "metadata": {},
   "source": [
    "Agora analisamos as linhas: Para a primeira linha (capital) temos 36% dos individuos com fundamental, 45% com médio e 18% com superior."
   ]
  },
  {
   "cell_type": "markdown",
   "metadata": {},
   "source": [
    "# Associação de variáveis qualitativas\n",
    "\n",
    "Um grande objetivo de estudar a distribuição conjunta de duas variáveis é o de conhecer se existe um grau de dependência entre elas (como vimos no exemplo da altura).\n",
    "\n",
    "Por exemplo: Se queremos estimar a renda média de uma família de São Paulo, a informação sobre a classe social dessa família vai nos ajudar a fazer uma estimação melhor, pois sabemos que existe um grau de dependência entre renda e classe social.\n",
    "\n",
    "Vamos estudar com um exemplo:"
   ]
  },
  {
   "cell_type": "code",
   "execution_count": 28,
   "metadata": {},
   "outputs": [
    {
     "name": "stdout",
     "output_type": "stream",
     "text": [
      "            y          x\n",
      "0    Economia  Masculino\n",
      "1    Economia  Masculino\n",
      "2    Economia  Masculino\n",
      "3    Economia  Masculino\n",
      "4    Economia  Masculino\n",
      "..        ...        ...\n",
      "195       Adm   Feminino\n",
      "196       Adm   Feminino\n",
      "197       Adm   Feminino\n",
      "198       Adm   Feminino\n",
      "199       Adm   Feminino\n",
      "\n",
      "[200 rows x 2 columns]\n"
     ]
    }
   ],
   "source": [
    "# Criando nova base de dados\n",
    "tabela_2_2 = pd.DataFrame ({'y': ['Economia']*120 + ['Adm']*80,\n",
    "                            'x': ['Masculino']*85 + ['Feminino']*35 + ['Masculino']*55 + ['Feminino']*25})\n",
    "\n",
    "print(tabela_2_2)\n",
    "# Tabela de distribuição conjunta\n",
    "tab_2_2 = pd.crosstab (index = tabela_2_2['y'],\n",
    "                      columns = tabela_2_2['x'],\n",
    "                      margins = True)\n",
    "tab_2_2.index = [\"Adm\",\"Economia\",\"col_total\"]\n",
    "tab_2_2.columns = [\"Fem\",\"Masc\",\"row_total\"]\n",
    "tab_2_2\n",
    "\n",
    "# Tabela em relação as colunas\n",
    "round(tab_2_2/tab_2_2.loc[\"col_total\"]*100)\n",
    "\n",
    "# Exportando para criar arquivo\n",
    "#tabela_2_2.to_csv('tabela_2_2.csv',index = False)"
   ]
  },
  {
   "cell_type": "markdown",
   "metadata": {},
   "source": [
    "Observamos pela tabela de frequencias relativas em relação as colunas que 61% dos integrantes do curso de economia são homens e 58% mulheres, esses valores são muito próximas da proporção marginal (60% para economia)\n",
    "Da mesma forma, 42% são mulheres e 39% são homens para administração, que é próximo da marginal (40%).\n",
    "Então podemos inferir que por essa amostra, não parece haver associação entre curso e sexo.\n",
    "\n",
    "De forma análoga, se tivessemos algo como: 81% homens e 19% mulheres em economia, e 60% marginal, teriamos indicação que é mais provável homens cursarem economia, e então teriamos uma associação entre sexo e curso para a amostra."
   ]
  },
  {
   "cell_type": "markdown",
   "metadata": {},
   "source": [
    "Espero que agora eu tenha despertado em você a seguinte pergunta: E como eu meço essa associação? Como posso saber se uma variável está mais ou menos associada a outra? Para responder isso temos:\n",
    "\n",
    "# Medidas de associação entre variáveis qualitativas\n",
    "\n",
    "A forma mais comum são os coeficientes de correlação. Essas medidas variam de -1 a 1, com o extremo (-1) medindo associação negativa, o extremo (1) medindo associação positiva e 0 se não existe relação. Quanto mais próximo desses valores mais (ou menos) associação entre as variáveis.\n",
    "\n",
    "Aqui iremos apresentar o coeficiente de contingência e uma modificação do mesmo."
   ]
  },
  {
   "cell_type": "code",
   "execution_count": 30,
   "metadata": {},
   "outputs": [],
   "source": [
    "# Criando nova base de dados\n",
    "tabela_2_3 = pd.DataFrame ({'y': ['São Paulo']*648 + ['Paraná']*301 + ['Rio G. do Sul']*602,\n",
    "                            'x': ['Consumidor']*214 + ['Produtor']*237 + ['Escola']*78 + ['Outras']*119 +\n",
    "                            ['Consumidor']*51 + ['Produtor']*102 + ['Escola']*126 + ['Outras']*22 +\n",
    "                            ['Consumidor']*111 + ['Produtor']*304 + ['Escola']*139 + ['Outras']*48})\n",
    "# Exportando para criar arquivo\n",
    "#tabela_2_3.to_csv('tabela_2_3.csv',index = False)"
   ]
  },
  {
   "cell_type": "markdown",
   "metadata": {},
   "source": [
    "Vamos usar a tabela de frequência relativa as linhas para analisar:"
   ]
  },
  {
   "cell_type": "code",
   "execution_count": 46,
   "metadata": {},
   "outputs": [
    {
     "name": "stdout",
     "output_type": "stream",
     "text": [
      "               Consumidor  Escola  Outras  Produtor  row_total\n",
      "Paraná               17.0    42.0     7.0      34.0      100.0\n",
      "Rio G. do Sul        18.0    23.0     8.0      50.0      100.0\n",
      "São Paulo            33.0    12.0    18.0      37.0      100.0\n",
      "col_total            24.0    22.0    12.0      41.0      100.0\n"
     ]
    }
   ],
   "source": [
    "# Criando tabela de frequência em relação as linhas\n",
    "\n",
    "tab_2_3 = pd.crosstab (index = tabela_2_3['y'],\n",
    "                      columns = tabela_2_3['x'],\n",
    "                      margins = True)\n",
    "tab_2_3.index = [\"Paraná\",'Rio G. do Sul','São Paulo',\"col_total\"]\n",
    "tab_2_3.columns = [\"Consumidor\",\"Escola\",\"Outras\",\"Produtor\",\"row_total\"]\n",
    "\n",
    "print(round(tab_2_3.div(tab_2_3['row_total'],axis = 0)*100))"
   ]
  },
  {
   "cell_type": "markdown",
   "metadata": {},
   "source": [
    "Observamos que nossa amostra tem 24% de consumidores, 22% de escolas, 12% outras e 41% de produtores. Então seria razoável assumir que se não existe associação entre variáveis, cada estado deveria ter esses valores de cada tipo. Por exemplo, se todo estado tiver 24% de consumidores, o total geral de consumidores se iguala a 24%, mas esse não parece ser o caso."
   ]
  },
  {
   "cell_type": "markdown",
   "metadata": {},
   "source": [
    "Aqui vou apresentar a primeira tabela com os números reais observados, e em sequência a tabela com os valores esperado se não houvesse associação (de acordo com as porcentagens definidas a cima):"
   ]
  },
  {
   "cell_type": "code",
   "execution_count": 49,
   "metadata": {},
   "outputs": [
    {
     "name": "stdout",
     "output_type": "stream",
     "text": [
      "               Consumidor  Escola  Outras  Produtor  row_total\n",
      "Paraná                 51     126      22       102        301\n",
      "Rio G. do Sul         111     139      48       304        602\n",
      "São Paulo             214      78     119       237        648\n",
      "col_total             376     343     189       643       1551\n",
      "               Consumidor  Escola  Outras  Produtor  row_total\n",
      "Paraná                 72      66      36       127        301\n",
      "Rio G. do Sul         144     132      72       254        602\n",
      "São Paulo             156     142      78       272        648\n",
      "col_total             372     340     186       653       1551\n"
     ]
    }
   ],
   "source": [
    "print(tab_2_3)\n",
    "tabela_2_3_1 = pd.DataFrame ({'y': ['São Paulo']*648 + ['Paraná']*301 + ['Rio G. do Sul']*602,\n",
    "                            'x': ['Consumidor']*156 + ['Produtor']*272 + ['Escola']*142 + ['Outras']*78 +\n",
    "                            ['Consumidor']*72 + ['Produtor']*127 + ['Escola']*66 + ['Outras']*36 +\n",
    "                            ['Consumidor']*144 + ['Produtor']*254 + ['Escola']*132 + ['Outras']*72})\n",
    "tab_2_3_1 = pd.crosstab (index = tabela_2_3_1['y'],\n",
    "                      columns = tabela_2_3_1['x'],\n",
    "                      margins = True)\n",
    "tab_2_3_1.index = [\"Paraná\",'Rio G. do Sul','São Paulo',\"col_total\"]\n",
    "tab_2_3_1.columns = [\"Consumidor\",\"Escola\",\"Outras\",\"Produtor\",\"row_total\"]\n",
    "\n",
    "print(tab_2_3_1)"
   ]
  },
  {
   "cell_type": "markdown",
   "metadata": {},
   "source": [
    "Observe as frequências destas tabelas para entender o exemplo com as porcentagens:"
   ]
  },
  {
   "cell_type": "code",
   "execution_count": 50,
   "metadata": {},
   "outputs": [
    {
     "name": "stdout",
     "output_type": "stream",
     "text": [
      "               Consumidor  Escola  Outras  Produtor  row_total\n",
      "Paraná               17.0    42.0     7.0      34.0      100.0\n",
      "Rio G. do Sul        18.0    23.0     8.0      50.0      100.0\n",
      "São Paulo            33.0    12.0    18.0      37.0      100.0\n",
      "col_total            24.0    22.0    12.0      41.0      100.0\n",
      "               Consumidor  Escola  Outras  Produtor  row_total\n",
      "Paraná               24.0    22.0    12.0      42.0      100.0\n",
      "Rio G. do Sul        24.0    22.0    12.0      42.0      100.0\n",
      "São Paulo            24.0    22.0    12.0      42.0      100.0\n",
      "col_total            24.0    22.0    12.0      42.0      100.0\n"
     ]
    }
   ],
   "source": [
    "print(round(tab_2_3.div(tab_2_3['row_total'],axis = 0)*100))\n",
    "print(round(tab_2_3_1.div(tab_2_3_1['row_total'],axis = 0)*100))"
   ]
  },
  {
   "cell_type": "markdown",
   "metadata": {},
   "source": [
    "Claramente existe alguma associação entre as variáveis, mas como podemos medi-lá?"
   ]
  },
  {
   "cell_type": "markdown",
   "metadata": {},
   "source": [
    "Repare nos desvios de cada categoria:\n",
    "(os desvios são os valores observados - valores esperados):"
   ]
  },
  {
   "cell_type": "code",
   "execution_count": 53,
   "metadata": {},
   "outputs": [
    {
     "name": "stdout",
     "output_type": "stream",
     "text": [
      "               Consumidor  Escola  Outras  Produtor  row_total\n",
      "Paraná                -21      60     -14       -25          0\n",
      "Rio G. do Sul         -33       7     -24        50          0\n",
      "São Paulo              58     -64      41       -35          0\n",
      "col_total               4       3       3       -10          0\n"
     ]
    }
   ],
   "source": [
    "print(tab_2_3 - tab_2_3_1)"
   ]
  },
  {
   "cell_type": "markdown",
   "metadata": {},
   "source": [
    "A categoria são paulo/escola tem o maior desvio (-64) mas os desvios não levam em conta a proporção do valor esperado para a categoria, então para de fato entendermos qual categoria tem o maior desvio precisamos de uma medida de desvio relativo, dado pela expressão:\n",
    "\n",
    "$\\frac{(o_1-e_i)^2}{e_i}$, onde $o_i$ é o valor observado e $e_i$ o valor esperado\n",
    "\n",
    "Por essa expressão vemos que os desvios relativos de são paulo/escola e paraná/escola são:"
   ]
  },
  {
   "cell_type": "code",
   "execution_count": 61,
   "metadata": {},
   "outputs": [
    {
     "name": "stdout",
     "output_type": "stream",
     "text": [
      "28.845070422535212\n",
      "54.54545454545455\n"
     ]
    }
   ],
   "source": [
    "print((-64)**2/142)\n",
    "\n",
    "print(60**2/66)"
   ]
  },
  {
   "cell_type": "markdown",
   "metadata": {},
   "source": [
    "Vemos que o desvio do paraná/escola é bem maior que o de são paulo/escola.\n",
    "\n",
    "Agora vamos analisar o formato da disposição de dados para calcular o $\\chi^2$ de Pearson.\n",
    "\n",
    "Note a disposição de dados na tabela de entrada dupla:\n",
    "\n",
    "$\\begin{bmatrix}   X/Y & B_1 & B_2 & ... & B_s & Total \n",
    "                \\\\ A_1 & n_{11} & n_{12} & ... & n_{1s} & n_{1.}\n",
    "                \\\\ A_2 & n_{21} & n_{22} & ... & n_{2s} & n_{2.}\n",
    "                \\\\ . & . & . & . & . & . &\n",
    "                \\\\ A_r & n_{r1} & n_{r2} & ... & n_{rs} & n_{r.}\n",
    "                \\\\ Total & n_{.1} & n_{.2} & ... & n_{r.} & n_{..}\n",
    "\\end{bmatrix}$"
   ]
  },
  {
   "cell_type": "markdown",
   "metadata": {},
   "source": [
    "Onde temos duas variáveis qualitativas (X e Y):\n",
    "\n",
    "A variável X tem suas categorias classificadas como A e variam de A1 até Ar \n",
    "\n",
    "A variável Y tem suas categorias classifiacadas como B e variam de B1 até Bs\n",
    "\n",
    "Se assumirmos a hipótese que as variáveis X e Y são independentes:\n",
    "\n",
    "$n^*_{ij} = \\frac{n_{i.}n_{j.}}{n}$ (note que $n^*_{ij}$ vai ser igual ao verdadeiro $n_{ij}$ se a independência for verdadeira.)\n",
    "\n",
    "Dessa forma calculamos o $\\chi^2$ de Pearson como:\n",
    "\n",
    "$\\chi^2 = \\sum_{i=1}^r\\sum_{j=1}^s \\frac{n_{ij}-n^*_{ij}}{n^*_{ij}}$\n",
    "\n",
    "Note como caso a hipótese de que as variáveis são independentes teremos que  $n^*_{ij} =  n_{ij}$ (ou aproxidamente iguais), quanto mais próximo de 0 $\\chi^2$ estiver, mais a hipótese de independência se aproxima de ser verdadeira, e quanto maiores os valores de $\\chi^2$ maiores a chances dos valores não serem independentes.\n",
    "\n",
    "Dessa forma a medida de contingência de Pearson é dada por:\n",
    "\n",
    "$C = \\sqrt{\\frac{\\chi^2}{\\chi^2+n}}$\n",
    "\n",
    "E uma adaptação nesta medida para que ela varie entre 0 e 1 (para facilitar a interpretação) é dada por:\n",
    "\n",
    "$T = \\sqrt{\\frac{\\frac{\\chi^2}{n}}{(r-1)(s-1)}}$"
   ]
  },
  {
   "cell_type": "code",
   "execution_count": null,
   "metadata": {},
   "outputs": [],
   "source": []
  }
 ],
 "metadata": {
  "kernelspec": {
   "display_name": "Python 3",
   "language": "python",
   "name": "python3"
  },
  "language_info": {
   "codemirror_mode": {
    "name": "ipython",
    "version": 3
   },
   "file_extension": ".py",
   "mimetype": "text/x-python",
   "name": "python",
   "nbconvert_exporter": "python",
   "pygments_lexer": "ipython3",
   "version": "3.7.4"
  }
 },
 "nbformat": 4,
 "nbformat_minor": 4
}
