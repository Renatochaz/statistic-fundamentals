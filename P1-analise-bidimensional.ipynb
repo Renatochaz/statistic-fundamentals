{
 "cells": [
  {
   "cell_type": "markdown",
   "metadata": {},
   "source": [
    "Extendendo o conteúdo da primeira parte, agora iremos nos preocupar em como analisar o comportamento de duas ou mais variáveis, que é o que ocorre na prática. \n",
    "\n",
    "Os dados estão geralmente dispostos em formas de matriz, com $n$ indíviduos na primeira coluna e as subsequentes $p$ colunas: $x_1,x_2,...,x_p$ com as variáveis do estudo.\n",
    "\n",
    "Podemos ter três situações distintas ao trabalhar com mais de uma variável:\n",
    "\n",
    "- Todas são qualitativas;\n",
    "- Todas são quantitativas;\n",
    "- Associação entre quantitativas e qualitativas.\n",
    "\n",
    "Em cada caso as técnicas utilizadas são diferentes, porém o objetivo é sempre o mesmo: Encontrar se existe uma associação entre as variáveis.\n",
    "Considere o seguinte exemplo: Imagine uma população $A$, composta de homens e mulheres. Sabemos que geralmente existe uma associação entre sexo e altura - pessoas do sexo masculino tendem a serem mais altas. Dessa forma, qual seria a chance de encontrar uma pessoa nessa população A com mais de 1,70 do grupo dos homens? E do grupo de mulheres? Se a chance for diferente para os dois grupos, podemos dizer que existe uma associação entre sexo e altura. (mais para frente discutiremos associações espúrias)"
   ]
  },
  {
   "cell_type": "markdown",
   "metadata": {},
   "source": [
    "# Análise de variáveis qualitativas\n",
    "\n",
    "- Tabelas de dupla entrada\n",
    "\n",
    "    Vamos trabalhar com a tabela 2.1, nela iremos analisar o comportamento das váriaveis Y(grau de escolaridade) e V(região de procedência)."
   ]
  },
  {
   "cell_type": "code",
   "execution_count": 28,
   "metadata": {},
   "outputs": [],
   "source": [
    "# Importar bibiliotecas\n",
    "import numpy as np\n",
    "import pandas as pd\n",
    "import matplotlib.pyplot as plt\n",
    "import os\n",
    "\n",
    "# Ler tabela\n",
    "t21 = pd.read_csv(\"Tabelas/tabela_2_1.csv\")"
   ]
  },
  {
   "cell_type": "code",
   "execution_count": 75,
   "metadata": {},
   "outputs": [
    {
     "data": {
      "text/html": [
       "<div>\n",
       "<style scoped>\n",
       "    .dataframe tbody tr th:only-of-type {\n",
       "        vertical-align: middle;\n",
       "    }\n",
       "\n",
       "    .dataframe tbody tr th {\n",
       "        vertical-align: top;\n",
       "    }\n",
       "\n",
       "    .dataframe thead th {\n",
       "        text-align: right;\n",
       "    }\n",
       "</style>\n",
       "<table border=\"1\" class=\"dataframe\">\n",
       "  <thead>\n",
       "    <tr style=\"text-align: right;\">\n",
       "      <th></th>\n",
       "      <th>Fundamental</th>\n",
       "      <th>Médio</th>\n",
       "      <th>Superior</th>\n",
       "      <th>row_total</th>\n",
       "    </tr>\n",
       "  </thead>\n",
       "  <tbody>\n",
       "    <tr>\n",
       "      <td>Capital</td>\n",
       "      <td>4</td>\n",
       "      <td>5</td>\n",
       "      <td>2</td>\n",
       "      <td>11</td>\n",
       "    </tr>\n",
       "    <tr>\n",
       "      <td>Interior</td>\n",
       "      <td>3</td>\n",
       "      <td>7</td>\n",
       "      <td>2</td>\n",
       "      <td>12</td>\n",
       "    </tr>\n",
       "    <tr>\n",
       "      <td>Outra</td>\n",
       "      <td>5</td>\n",
       "      <td>6</td>\n",
       "      <td>2</td>\n",
       "      <td>13</td>\n",
       "    </tr>\n",
       "    <tr>\n",
       "      <td>col_total</td>\n",
       "      <td>12</td>\n",
       "      <td>18</td>\n",
       "      <td>6</td>\n",
       "      <td>36</td>\n",
       "    </tr>\n",
       "  </tbody>\n",
       "</table>\n",
       "</div>"
      ],
      "text/plain": [
       "           Fundamental  Médio  Superior  row_total\n",
       "Capital              4      5         2         11\n",
       "Interior             3      7         2         12\n",
       "Outra                5      6         2         13\n",
       "col_total           12     18         6         36"
      ]
     },
     "execution_count": 75,
     "metadata": {},
     "output_type": "execute_result"
    }
   ],
   "source": [
    "# Tabela de região x escolaridade\n",
    "tab_regiao = pd.crosstab(index=t21[\"V\"], \n",
    "                           columns=t21[\"Y\"],\n",
    "                          margins=True)\n",
    "tab_regiao.index = [\"Capital\",\"Interior\",\"Outra\",\"col_total\"]\n",
    "tab_regiao.columns = [\"Fundamental\",\"Médio\",\"Superior\",\"row_total\"]\n",
    "\n",
    "tab_regiao\n"
   ]
  },
  {
   "cell_type": "markdown",
   "metadata": {},
   "source": [
    "A tabela \"tab_regiao\" é uma tabela de dupla entrada usualmente utilizada para análises de duas variáveis qualitativas. Cada elemento nos dá a frequência observada de uma variável dada a outra, assim observamos que temos 4 pessoas com fundamental na capital, 3 com fundamental no interior e etc.\n",
    "\n",
    "Além das frequências absolutas, podemos trabalhar com frequências relativas, as nossas opções são:\n",
    "\n",
    "- Relação ao total geral;\n",
    "- Relação ao total de cada linha;\n",
    "- Relação ao total de cada coluna.\n",
    "\n",
    "Para cada estudo, uma ou outra será mais eficiente. Vamos analisar:"
   ]
  },
  {
   "cell_type": "code",
   "execution_count": 76,
   "metadata": {},
   "outputs": [
    {
     "data": {
      "text/html": [
       "<div>\n",
       "<style scoped>\n",
       "    .dataframe tbody tr th:only-of-type {\n",
       "        vertical-align: middle;\n",
       "    }\n",
       "\n",
       "    .dataframe tbody tr th {\n",
       "        vertical-align: top;\n",
       "    }\n",
       "\n",
       "    .dataframe thead th {\n",
       "        text-align: right;\n",
       "    }\n",
       "</style>\n",
       "<table border=\"1\" class=\"dataframe\">\n",
       "  <thead>\n",
       "    <tr style=\"text-align: right;\">\n",
       "      <th></th>\n",
       "      <th>Fundamental</th>\n",
       "      <th>Médio</th>\n",
       "      <th>Superior</th>\n",
       "      <th>row_total</th>\n",
       "    </tr>\n",
       "  </thead>\n",
       "  <tbody>\n",
       "    <tr>\n",
       "      <td>Capital</td>\n",
       "      <td>11.0</td>\n",
       "      <td>14.0</td>\n",
       "      <td>6.0</td>\n",
       "      <td>31.0</td>\n",
       "    </tr>\n",
       "    <tr>\n",
       "      <td>Interior</td>\n",
       "      <td>8.0</td>\n",
       "      <td>19.0</td>\n",
       "      <td>6.0</td>\n",
       "      <td>33.0</td>\n",
       "    </tr>\n",
       "    <tr>\n",
       "      <td>Outra</td>\n",
       "      <td>14.0</td>\n",
       "      <td>17.0</td>\n",
       "      <td>6.0</td>\n",
       "      <td>36.0</td>\n",
       "    </tr>\n",
       "    <tr>\n",
       "      <td>col_total</td>\n",
       "      <td>33.0</td>\n",
       "      <td>50.0</td>\n",
       "      <td>17.0</td>\n",
       "      <td>100.0</td>\n",
       "    </tr>\n",
       "  </tbody>\n",
       "</table>\n",
       "</div>"
      ],
      "text/plain": [
       "           Fundamental  Médio  Superior  row_total\n",
       "Capital           11.0   14.0       6.0       31.0\n",
       "Interior           8.0   19.0       6.0       33.0\n",
       "Outra             14.0   17.0       6.0       36.0\n",
       "col_total         33.0   50.0      17.0      100.0"
      ]
     },
     "execution_count": 76,
     "metadata": {},
     "output_type": "execute_result"
    }
   ],
   "source": [
    "# Tabela em relação ao total geral\n",
    "round(tab_regiao/tab_regiao.loc[\"col_total\",\"row_total\"]*100)"
   ]
  },
  {
   "cell_type": "markdown",
   "metadata": {},
   "source": [
    "Neste caso dividimos cada elemento pelo total geral da tabela (36 observações), isso nos dá a frequência relativa de toda a amostra: Sabemos que 31% da amostra é da capital, e que desses elementos capital: 11% tem fundamental, 14% médio e 6% superior."
   ]
  },
  {
   "cell_type": "code",
   "execution_count": 77,
   "metadata": {},
   "outputs": [
    {
     "data": {
      "text/html": [
       "<div>\n",
       "<style scoped>\n",
       "    .dataframe tbody tr th:only-of-type {\n",
       "        vertical-align: middle;\n",
       "    }\n",
       "\n",
       "    .dataframe tbody tr th {\n",
       "        vertical-align: top;\n",
       "    }\n",
       "\n",
       "    .dataframe thead th {\n",
       "        text-align: right;\n",
       "    }\n",
       "</style>\n",
       "<table border=\"1\" class=\"dataframe\">\n",
       "  <thead>\n",
       "    <tr style=\"text-align: right;\">\n",
       "      <th></th>\n",
       "      <th>Fundamental</th>\n",
       "      <th>Médio</th>\n",
       "      <th>Superior</th>\n",
       "      <th>row_total</th>\n",
       "    </tr>\n",
       "  </thead>\n",
       "  <tbody>\n",
       "    <tr>\n",
       "      <td>Capital</td>\n",
       "      <td>33.0</td>\n",
       "      <td>28.0</td>\n",
       "      <td>33.0</td>\n",
       "      <td>31.0</td>\n",
       "    </tr>\n",
       "    <tr>\n",
       "      <td>Interior</td>\n",
       "      <td>25.0</td>\n",
       "      <td>39.0</td>\n",
       "      <td>33.0</td>\n",
       "      <td>33.0</td>\n",
       "    </tr>\n",
       "    <tr>\n",
       "      <td>Outra</td>\n",
       "      <td>42.0</td>\n",
       "      <td>33.0</td>\n",
       "      <td>33.0</td>\n",
       "      <td>36.0</td>\n",
       "    </tr>\n",
       "    <tr>\n",
       "      <td>col_total</td>\n",
       "      <td>100.0</td>\n",
       "      <td>100.0</td>\n",
       "      <td>100.0</td>\n",
       "      <td>100.0</td>\n",
       "    </tr>\n",
       "  </tbody>\n",
       "</table>\n",
       "</div>"
      ],
      "text/plain": [
       "           Fundamental  Médio  Superior  row_total\n",
       "Capital           33.0   28.0      33.0       31.0\n",
       "Interior          25.0   39.0      33.0       33.0\n",
       "Outra             42.0   33.0      33.0       36.0\n",
       "col_total        100.0  100.0     100.0      100.0"
      ]
     },
     "execution_count": 77,
     "metadata": {},
     "output_type": "execute_result"
    }
   ],
   "source": [
    "# Tabela em relação ao total de cada coluna\n",
    "round(tab_regiao/tab_regiao.loc[\"col_total\"]*100)"
   ]
  },
  {
   "cell_type": "markdown",
   "metadata": {},
   "source": [
    "Aqui nos temos as proporções em relação a cada coluna, dessa forma podemos observar que do grupo da coluna 1 (fundamental), 33% são da capital, 25% do interior e 42% de outra categoria."
   ]
  },
  {
   "cell_type": "code",
   "execution_count": 82,
   "metadata": {},
   "outputs": [
    {
     "data": {
      "text/html": [
       "<div>\n",
       "<style scoped>\n",
       "    .dataframe tbody tr th:only-of-type {\n",
       "        vertical-align: middle;\n",
       "    }\n",
       "\n",
       "    .dataframe tbody tr th {\n",
       "        vertical-align: top;\n",
       "    }\n",
       "\n",
       "    .dataframe thead th {\n",
       "        text-align: right;\n",
       "    }\n",
       "</style>\n",
       "<table border=\"1\" class=\"dataframe\">\n",
       "  <thead>\n",
       "    <tr style=\"text-align: right;\">\n",
       "      <th></th>\n",
       "      <th>Fundamental</th>\n",
       "      <th>Médio</th>\n",
       "      <th>Superior</th>\n",
       "      <th>row_total</th>\n",
       "    </tr>\n",
       "  </thead>\n",
       "  <tbody>\n",
       "    <tr>\n",
       "      <td>Capital</td>\n",
       "      <td>36.0</td>\n",
       "      <td>45.0</td>\n",
       "      <td>18.0</td>\n",
       "      <td>100.0</td>\n",
       "    </tr>\n",
       "    <tr>\n",
       "      <td>Interior</td>\n",
       "      <td>25.0</td>\n",
       "      <td>58.0</td>\n",
       "      <td>17.0</td>\n",
       "      <td>100.0</td>\n",
       "    </tr>\n",
       "    <tr>\n",
       "      <td>Outra</td>\n",
       "      <td>38.0</td>\n",
       "      <td>46.0</td>\n",
       "      <td>15.0</td>\n",
       "      <td>100.0</td>\n",
       "    </tr>\n",
       "    <tr>\n",
       "      <td>col_total</td>\n",
       "      <td>33.0</td>\n",
       "      <td>50.0</td>\n",
       "      <td>17.0</td>\n",
       "      <td>100.0</td>\n",
       "    </tr>\n",
       "  </tbody>\n",
       "</table>\n",
       "</div>"
      ],
      "text/plain": [
       "           Fundamental  Médio  Superior  row_total\n",
       "Capital           36.0   45.0      18.0      100.0\n",
       "Interior          25.0   58.0      17.0      100.0\n",
       "Outra             38.0   46.0      15.0      100.0\n",
       "col_total         33.0   50.0      17.0      100.0"
      ]
     },
     "execution_count": 82,
     "metadata": {},
     "output_type": "execute_result"
    }
   ],
   "source": [
    "# Tabela em relação ao total de cada linha\n",
    "round(tab_regiao.div(tab_regiao[\"row_total\"],axis = 0)*100)"
   ]
  },
  {
   "cell_type": "markdown",
   "metadata": {},
   "source": [
    "Agora analisamos as linhas: Para a primeira linha (capital) temos 36% dos individuos com fundamental, 45% com médio e 18% com superior."
   ]
  },
  {
   "cell_type": "markdown",
   "metadata": {},
   "source": [
    "# Associação de variáveis qualitativas\n",
    "\n",
    "Um grande objetivo de estudar a distribuição conjunta de duas variáveis é o de conhecer se existe um grau de dependência entre elas (como vimos no exemplo da altura).\n",
    "\n",
    "Por exemplo: Se queremos estimar a renda média de uma família de São Paulo, a informação sobre a classe social dessa família vai nos ajudar a fazer uma estimação melhor, pois sabemos que existe um grau de dependência entre renda e classe social.\n",
    "\n",
    "Vamos estudar com um exemplo:"
   ]
  },
  {
   "cell_type": "code",
   "execution_count": 3,
   "metadata": {},
   "outputs": [
    {
     "name": "stdout",
     "output_type": "stream",
     "text": [
      "             Fem   Masc  row_total\n",
      "Adm         42.0   39.0       40.0\n",
      "Economia    58.0   61.0       60.0\n",
      "col_total  100.0  100.0      100.0\n"
     ]
    }
   ],
   "source": [
    "# Criando nova base de dados\n",
    "tabela_2_2 = pd.DataFrame ({'y': ['Economia']*120 + ['Adm']*80,\n",
    "                            'x': ['Masculino']*85 + ['Feminino']*35 + ['Masculino']*55 + ['Feminino']*25})\n",
    "\n",
    "# Tabela de distribuição conjunta\n",
    "tab_2_2 = pd.crosstab (index = tabela_2_2['y'],\n",
    "                      columns = tabela_2_2['x'],\n",
    "                      margins = True)\n",
    "tab_2_2.index = [\"Adm\",\"Economia\",\"col_total\"]\n",
    "tab_2_2.columns = [\"Fem\",\"Masc\",\"row_total\"]\n",
    "tab_2_2\n",
    "\n",
    "# Tabela em relação as colunas\n",
    "print(round(tab_2_2/tab_2_2.loc[\"col_total\"]*100))\n",
    "# Exportando para criar arquivo\n",
    "#tabela_2_2.to_csv('tabela_2_2.csv',index = False)"
   ]
  },
  {
   "cell_type": "markdown",
   "metadata": {},
   "source": [
    "Observamos pela tabela de frequencias relativas em relação as colunas que 61% dos integrantes do curso de economia são homens e 58% mulheres, esses valores são muito próximas da proporção marginal (60% para economia)\n",
    "Da mesma forma, 42% são mulheres e 39% são homens para administração, que é próximo da marginal (40%).\n",
    "Então podemos inferir que por essa amostra, não parece haver associação entre curso e sexo.\n",
    "\n",
    "De forma análoga, se tivessemos algo como: 81% homens e 19% mulheres em economia, e 60% marginal, teriamos indicação que é mais provável homens cursarem economia, e então teriamos uma associação entre sexo e curso para a amostra."
   ]
  },
  {
   "cell_type": "markdown",
   "metadata": {},
   "source": [
    "Espero que agora eu tenha despertado em você a seguinte pergunta: E como eu meço essa associação? Como posso saber se uma variável está mais ou menos associada a outra? Para responder isso temos:\n",
    "\n",
    "# Medidas de associação entre variáveis qualitativas\n",
    "\n",
    "A forma mais comum são os coeficientes de correlação. Essas medidas variam de -1 a 1, com o extremo (-1) medindo associação negativa, o extremo (1) medindo associação positiva e 0 se não existe relação. Quanto mais próximo desses valores mais (ou menos) associação entre as variáveis.\n",
    "\n",
    "Aqui iremos apresentar o coeficiente de contingência e uma modificação do mesmo."
   ]
  },
  {
   "cell_type": "code",
   "execution_count": 30,
   "metadata": {},
   "outputs": [],
   "source": [
    "# Criando nova base de dados\n",
    "tabela_2_3 = pd.DataFrame ({'y': ['São Paulo']*648 + ['Paraná']*301 + ['Rio G. do Sul']*602,\n",
    "                            'x': ['Consumidor']*214 + ['Produtor']*237 + ['Escola']*78 + ['Outras']*119 +\n",
    "                            ['Consumidor']*51 + ['Produtor']*102 + ['Escola']*126 + ['Outras']*22 +\n",
    "                            ['Consumidor']*111 + ['Produtor']*304 + ['Escola']*139 + ['Outras']*48})\n",
    "# Exportando para criar arquivo\n",
    "#tabela_2_3.to_csv('tabela_2_3.csv',index = False)"
   ]
  },
  {
   "cell_type": "markdown",
   "metadata": {},
   "source": [
    "Vamos usar a tabela de frequência relativa as linhas para analisar:"
   ]
  },
  {
   "cell_type": "code",
   "execution_count": 46,
   "metadata": {},
   "outputs": [
    {
     "name": "stdout",
     "output_type": "stream",
     "text": [
      "               Consumidor  Escola  Outras  Produtor  row_total\n",
      "Paraná               17.0    42.0     7.0      34.0      100.0\n",
      "Rio G. do Sul        18.0    23.0     8.0      50.0      100.0\n",
      "São Paulo            33.0    12.0    18.0      37.0      100.0\n",
      "col_total            24.0    22.0    12.0      41.0      100.0\n"
     ]
    }
   ],
   "source": [
    "# Criando tabela de frequência em relação as linhas\n",
    "\n",
    "tab_2_3 = pd.crosstab (index = tabela_2_3['y'],\n",
    "                      columns = tabela_2_3['x'],\n",
    "                      margins = True)\n",
    "tab_2_3.index = [\"Paraná\",'Rio G. do Sul','São Paulo',\"col_total\"]\n",
    "tab_2_3.columns = [\"Consumidor\",\"Escola\",\"Outras\",\"Produtor\",\"row_total\"]\n",
    "\n",
    "print(round(tab_2_3.div(tab_2_3['row_total'],axis = 0)*100))"
   ]
  },
  {
   "cell_type": "markdown",
   "metadata": {},
   "source": [
    "Observamos que nossa amostra tem 24% de consumidores, 22% de escolas, 12% outras e 41% de produtores. Então seria razoável assumir que se não existe associação entre variáveis, cada estado deveria ter esses valores de cada tipo. Por exemplo, se todo estado tiver 24% de consumidores, o total geral de consumidores se iguala a 24%, mas esse não parece ser o caso."
   ]
  },
  {
   "cell_type": "markdown",
   "metadata": {},
   "source": [
    "Aqui vou apresentar a primeira tabela com os números reais observados, e em sequência a tabela com os valores esperado se não houvesse associação (de acordo com as porcentagens definidas a cima):"
   ]
  },
  {
   "cell_type": "code",
   "execution_count": 49,
   "metadata": {},
   "outputs": [
    {
     "name": "stdout",
     "output_type": "stream",
     "text": [
      "               Consumidor  Escola  Outras  Produtor  row_total\n",
      "Paraná                 51     126      22       102        301\n",
      "Rio G. do Sul         111     139      48       304        602\n",
      "São Paulo             214      78     119       237        648\n",
      "col_total             376     343     189       643       1551\n",
      "               Consumidor  Escola  Outras  Produtor  row_total\n",
      "Paraná                 72      66      36       127        301\n",
      "Rio G. do Sul         144     132      72       254        602\n",
      "São Paulo             156     142      78       272        648\n",
      "col_total             372     340     186       653       1551\n"
     ]
    }
   ],
   "source": [
    "print(tab_2_3)\n",
    "tabela_2_3_1 = pd.DataFrame ({'y': ['São Paulo']*648 + ['Paraná']*301 + ['Rio G. do Sul']*602,\n",
    "                            'x': ['Consumidor']*156 + ['Produtor']*272 + ['Escola']*142 + ['Outras']*78 +\n",
    "                            ['Consumidor']*72 + ['Produtor']*127 + ['Escola']*66 + ['Outras']*36 +\n",
    "                            ['Consumidor']*144 + ['Produtor']*254 + ['Escola']*132 + ['Outras']*72})\n",
    "tab_2_3_1 = pd.crosstab (index = tabela_2_3_1['y'],\n",
    "                      columns = tabela_2_3_1['x'],\n",
    "                      margins = True)\n",
    "tab_2_3_1.index = [\"Paraná\",'Rio G. do Sul','São Paulo',\"col_total\"]\n",
    "tab_2_3_1.columns = [\"Consumidor\",\"Escola\",\"Outras\",\"Produtor\",\"row_total\"]\n",
    "\n",
    "print(tab_2_3_1)"
   ]
  },
  {
   "cell_type": "markdown",
   "metadata": {},
   "source": [
    "Observe as frequências destas tabelas para entender o exemplo com as porcentagens:"
   ]
  },
  {
   "cell_type": "code",
   "execution_count": 50,
   "metadata": {},
   "outputs": [
    {
     "name": "stdout",
     "output_type": "stream",
     "text": [
      "               Consumidor  Escola  Outras  Produtor  row_total\n",
      "Paraná               17.0    42.0     7.0      34.0      100.0\n",
      "Rio G. do Sul        18.0    23.0     8.0      50.0      100.0\n",
      "São Paulo            33.0    12.0    18.0      37.0      100.0\n",
      "col_total            24.0    22.0    12.0      41.0      100.0\n",
      "               Consumidor  Escola  Outras  Produtor  row_total\n",
      "Paraná               24.0    22.0    12.0      42.0      100.0\n",
      "Rio G. do Sul        24.0    22.0    12.0      42.0      100.0\n",
      "São Paulo            24.0    22.0    12.0      42.0      100.0\n",
      "col_total            24.0    22.0    12.0      42.0      100.0\n"
     ]
    }
   ],
   "source": [
    "print(round(tab_2_3.div(tab_2_3['row_total'],axis = 0)*100))\n",
    "print(round(tab_2_3_1.div(tab_2_3_1['row_total'],axis = 0)*100))"
   ]
  },
  {
   "cell_type": "markdown",
   "metadata": {},
   "source": [
    "Claramente existe alguma associação entre as variáveis, mas como podemos medi-lá?"
   ]
  },
  {
   "cell_type": "markdown",
   "metadata": {},
   "source": [
    "Repare nos desvios de cada categoria:\n",
    "(os desvios são os valores observados - valores esperados):"
   ]
  },
  {
   "cell_type": "code",
   "execution_count": 53,
   "metadata": {},
   "outputs": [
    {
     "name": "stdout",
     "output_type": "stream",
     "text": [
      "               Consumidor  Escola  Outras  Produtor  row_total\n",
      "Paraná                -21      60     -14       -25          0\n",
      "Rio G. do Sul         -33       7     -24        50          0\n",
      "São Paulo              58     -64      41       -35          0\n",
      "col_total               4       3       3       -10          0\n"
     ]
    }
   ],
   "source": [
    "print(tab_2_3 - tab_2_3_1)"
   ]
  },
  {
   "cell_type": "markdown",
   "metadata": {},
   "source": [
    "A categoria são paulo/escola tem o maior desvio (-64) mas os desvios não levam em conta a proporção do valor esperado para a categoria, então para de fato entendermos qual categoria tem o maior desvio precisamos de uma medida de desvio relativo, dado pela expressão:\n",
    "\n",
    "$\\frac{(o_1-e_i)^2}{e_i}$, onde $o_i$ é o valor observado e $e_i$ o valor esperado\n",
    "\n",
    "Por essa expressão vemos que os desvios relativos de são paulo/escola e paraná/escola são:"
   ]
  },
  {
   "cell_type": "code",
   "execution_count": 61,
   "metadata": {},
   "outputs": [
    {
     "name": "stdout",
     "output_type": "stream",
     "text": [
      "28.845070422535212\n",
      "54.54545454545455\n"
     ]
    }
   ],
   "source": [
    "print((-64)**2/142)\n",
    "\n",
    "print(60**2/66)"
   ]
  },
  {
   "cell_type": "markdown",
   "metadata": {},
   "source": [
    "Vemos que o desvio do paraná/escola é bem maior que o de são paulo/escola.\n",
    "\n",
    "Agora vamos analisar o formato da disposição de dados para calcular o $\\chi^2$ de Pearson.\n",
    "\n",
    "Note a disposição de dados na tabela de entrada dupla:\n",
    "\n",
    "$\\begin{bmatrix}   X/Y & B_1 & B_2 & ... & B_s & Total \n",
    "                \\\\ A_1 & n_{11} & n_{12} & ... & n_{1s} & n_{1.}\n",
    "                \\\\ A_2 & n_{21} & n_{22} & ... & n_{2s} & n_{2.}\n",
    "                \\\\ . & . & . & . & . & . &\n",
    "                \\\\ A_r & n_{r1} & n_{r2} & ... & n_{rs} & n_{r.}\n",
    "                \\\\ Total & n_{.1} & n_{.2} & ... & n_{r.} & n_{..}\n",
    "\\end{bmatrix}$"
   ]
  },
  {
   "cell_type": "markdown",
   "metadata": {},
   "source": [
    "Onde temos duas variáveis qualitativas (X e Y):\n",
    "\n",
    "A variável X tem suas categorias classificadas como A e variam de A1 até Ar \n",
    "\n",
    "A variável Y tem suas categorias classifiacadas como B e variam de B1 até Bs\n",
    "\n",
    "Se assumirmos a hipótese que as variáveis X e Y são independentes:\n",
    "\n",
    "$n^*_{ij} = \\frac{n_{i.}n_{j.}}{n}$ (note que $n^*_{ij}$ vai ser igual ao verdadeiro $n_{ij}$ se a independência for verdadeira.)\n",
    "\n",
    "Dessa forma calculamos o $\\chi^2$ de Pearson como:\n",
    "\n",
    "$\\chi^2 = \\sum_{i=1}^r\\sum_{j=1}^s \\frac{n_{ij}-n^*_{ij}}{n^*_{ij}}$\n",
    "\n",
    "Note como caso a hipótese de que as variáveis são independentes teremos que  $n^*_{ij} =  n_{ij}$ (ou aproxidamente iguais), quanto mais próximo de 0 $\\chi^2$ estiver, mais a hipótese de independência se aproxima de ser verdadeira, e quanto maiores os valores de $\\chi^2$ maiores a chances dos valores não serem independentes.\n",
    "\n",
    "Dessa forma a medida de contingência de Pearson é dada por:\n",
    "\n",
    "$C = \\sqrt{\\frac{\\chi^2}{\\chi^2+n}}$\n",
    "\n",
    "E uma adaptação nesta medida para que ela varie entre 0 e 1 (para facilitar a interpretação) é dada por:\n",
    "\n",
    "$T = \\sqrt{\\frac{\\frac{\\chi^2}{n}}{(r-1)(s-1)}}$"
   ]
  },
  {
   "cell_type": "markdown",
   "metadata": {},
   "source": [
    "# Associação entre variáveis quantitativas\n",
    "\n",
    "Ao analisar a associação entre variáveis quantitativas, podemos usar os mesmos métodos de tabelas de dupla entrada apresentados a cima. Porém, além destes, o uso de gráficos é uma técnica bem útil para analisar a associação entre estas variáveis.\n",
    "\n",
    "O gráfico mais usado é o de dispersão. Vamos analisá-lo com o seguinte exemplo:"
   ]
  },
  {
   "cell_type": "code",
   "execution_count": 6,
   "metadata": {},
   "outputs": [],
   "source": [
    "# Criando tabela de dados\n",
    "tabela_2_4 = pd.DataFrame ({'y': [2,3,4,5,4,6,7,8,8,10],\n",
    "                            'x': [48,50,56,52,43,60,62,58,64,72]})\n",
    "#export\n",
    "#tabela_2_4.to_csv('tabela_2_4.csv',index = False)"
   ]
  },
  {
   "cell_type": "code",
   "execution_count": 28,
   "metadata": {},
   "outputs": [
    {
     "data": {
      "image/png": "[encoded data removed]",
      "text/plain": [
       "<Figure size 432x288 with 1 Axes>"
      ]
     },
     "metadata": {
      "needs_background": "dark"
     },
     "output_type": "display_data"
    }
   ],
   "source": [
    "%matplotlib inline\n",
    "tabela_2_4.plot.scatter(x='y',y='x')\n",
    "plt.style.use('dark_background')"
   ]
  },
  {
   "cell_type": "markdown",
   "metadata": {},
   "source": [
    "Neste exemplo temos um gráfico de dispersão que nos mostra que a medida que a variável y aumenta, a variável x também aumenta. Assim identificamos uma associação linear e positiva.\n",
    "\n",
    "\n",
    "No exemplo a seguir temos a renda bruta de 10 famílias e a porcentagem da renda gasta com assistencia médica:"
   ]
  },
  {
   "cell_type": "code",
   "execution_count": 29,
   "metadata": {},
   "outputs": [],
   "source": [
    "# Criando tabela de dados\n",
    "tabela_2_5 = pd.DataFrame ({'x': [12,16,18,20,28,30,34,40,42,50],\n",
    "                            'y': [7.2,7.4,6.8,6.5,6.3,6.5,5.5,5.5,5.2,5]})\n",
    "#export\n",
    "#tabela_2_5.to_csv('Tabelas/tabela_2_5.csv',index = False)"
   ]
  },
  {
   "cell_type": "code",
   "execution_count": 31,
   "metadata": {},
   "outputs": [
    {
     "data": {
      "image/png": "[encoded data removed]",
      "text/plain": [
       "<Figure size 432x288 with 1 Axes>"
      ]
     },
     "metadata": {
      "needs_background": "dark"
     },
     "output_type": "display_data"
    }
   ],
   "source": [
    "%matplotlib inline\n",
    "tabela_2_5.plot.scatter(x='x',y='y')\n",
    "plt.style.use('dark_background')"
   ]
  },
  {
   "cell_type": "markdown",
   "metadata": {},
   "source": [
    "Observamos neste exemplo uma associação negativa, conforme a renda aumenta, a porcentagem do salário gasto com médicos diminui.\n",
    "\n",
    "Por fim vamos analisar um último exemplo em que não conseguimos observar nenhuma associação (gráfico com padrão aleatório):"
   ]
  },
  {
   "cell_type": "code",
   "execution_count": 73,
   "metadata": {},
   "outputs": [
    {
     "data": {
      "image/png": "[encoded data removed]",
      "text/plain": [
       "<Figure size 432x288 with 1 Axes>"
      ]
     },
     "metadata": {
      "needs_background": "dark"
     },
     "output_type": "display_data"
    }
   ],
   "source": [
    "# Criando tabela de dados\n",
    "np.random.seed(30)\n",
    "tabela_2_6 = pd.DataFrame ({'x': np.random.randint(40,90,10),\n",
    "                            'y': np.random.randint(340,380,10)})\n",
    "#export\n",
    "#tabela_2_6.to_csv('Tabelas/tabela_2_5.csv',index = False)\n",
    "\n",
    "# Plotando\n",
    "%matplotlib inline\n",
    "tabela_2_6.plot.scatter(x='x',y='y')\n",
    "plt.style.use('dark_background')"
   ]
  },
  {
   "cell_type": "markdown",
   "metadata": {},
   "source": [
    "# Medida de associação de variáveis quantitativas\n",
    "\n",
    "Da mesma forma que pretendemos medir o quanto duas variáveis qualitativas são associadas, queremos o mesmo para as variáveis quantitativas.\n",
    "\n",
    "Aqui iremos apresentar a teoria de um método simples, porém poderoso para relações lineares: O coeficiente de correlação linear. (lembre-se que relações lineares se refere a relações que se aproximam de uma reta)\n",
    "\n",
    "Nossa medida irá variar da mesma forma que o coeficiente de pearson ajustado: entre -1 e 1.\n",
    "\n",
    "Quanto mais próximo de -1, mais forte é a associação negativa, e quanto mais próximo de 1 mais forte a associação é positiva. (próximo de 0 nos indica que não existe associação captada por este método).\n",
    "\n",
    "Agora iremos entender o raciocínio desta medida:\n",
    "\n",
    "Imagine um gráfico de dispersão que a origem fica exatamente no meio da nuvem de pontos. Caso tenhamos uma associação positiva neste caso, teremos pontos principalmente entre o 1ª e o 3ª quadrante  do gráfico. \n",
    "Lembre do sistema cartesiano: pontos no 1ª quadrante tem valores positivos: [+,+], e pontos no 3ª quadrante tem valores negativos [-,-]. FIca fácil observar que ao realizar o produto de pontos situados no 1ª e 3ª quadrante sempre teremos um valor positivo! Assim conforme formos somando o produto dos pontos de uma associação positiva, sempre teremos um valor positivo na nossa medida.\n",
    "\n",
    "Como isso pode ser feito na prática se a origem não fica exatamente no meio da nuvem de pontos? simplesmente mudando a origem do sistema através de uma transformação! \n",
    "\n",
    "Vamos transformar a origem da tabela_2_4 para mostrar visualmente a teoria.\n",
    "\n",
    "A transformação mais conveniente é a de colocar a origem na média dos valores ($\\bar{x}$), assim nossos novos valores passam a ser: $x_t = x_i - \\bar{x}$ "
   ]
  },
  {
   "cell_type": "code",
   "execution_count": 96,
   "metadata": {},
   "outputs": [
    {
     "data": {
      "image/png": "[encoded data removed]",
      "text/plain": [
       "<Figure size 640x480 with 1 Axes>"
      ]
     },
     "metadata": {},
     "output_type": "display_data"
    }
   ],
   "source": [
    "import statistics\n",
    "%matplotlib inline\n",
    "# Calcular novos valores de x e y centrados na média da tabela 2_4 (associacao positiva)\n",
    "\n",
    "y = tabela_2_4['x'] - statistics.mean(tabela_2_4['x'])\n",
    "\n",
    "x = tabela_2_4['y'] - statistics.mean(tabela_2_4['y'])\n",
    "\n",
    "# plotando diagrama de dispersão com highlight na origem (centro)\n",
    "plt.style.use('default')\n",
    "fig = plt.figure()\n",
    "ax = fig.add_subplot(111)\n",
    "ax.scatter(x,y)\n",
    "ax.grid()\n",
    "a = ax.get_xgridlines()\n",
    "b = a[5]\n",
    "b.set_color('red')\n",
    "b.set_linewidth(3)\n",
    "c = ax.get_ygridlines()\n",
    "d = c[3]\n",
    "d.set_color('red')\n",
    "d.set_linewidth(3)"
   ]
  },
  {
   "cell_type": "markdown",
   "metadata": {},
   "source": [
    "Repare como com a transformação de origem os pontos ficam entre o quadrante 1 e 3! Isso acontece sempre que houver uma relação linear positiva, e usaremos esse resultado para construir nosso índice.\n",
    "\n",
    "De forma semelhante, teremos que a soma dos produtos dos pontos de associações negativas sempre serem negativas, note como a dispersão fica em relação a origem (quadrantes 2 e 4, onde teremos pontos com par positivo e negativo, resultando em produto negativo):"
   ]
  },
  {
   "cell_type": "code",
   "execution_count": 104,
   "metadata": {},
   "outputs": [
    {
     "data": {
      "image/png": "[encoded data removed]",
      "text/plain": [
       "<Figure size 640x480 with 1 Axes>"
      ]
     },
     "metadata": {},
     "output_type": "display_data"
    }
   ],
   "source": [
    "%matplotlib inline\n",
    "# Calcular novos valores de x e y centrados na média da tabela 2_5 (associacao negativa)\n",
    "\n",
    "x = tabela_2_5['x'] - statistics.mean(tabela_2_5['x'])\n",
    "\n",
    "y = tabela_2_5['y'] - statistics.mean(tabela_2_5['y'])\n",
    "\n",
    "# plotando diagrama de dispersão com highlight na origem (centro)\n",
    "plt.style.use('default')\n",
    "fig = plt.figure()\n",
    "ax = fig.add_subplot(111)\n",
    "ax.scatter(x,y)\n",
    "ax.grid()\n",
    "a = ax.get_xgridlines()\n",
    "b = a[4]\n",
    "b.set_color('red')\n",
    "b.set_linewidth(3)\n",
    "c = ax.get_ygridlines()\n",
    "d = c[3]\n",
    "d.set_color('red')\n",
    "d.set_linewidth(3)"
   ]
  },
  {
   "cell_type": "markdown",
   "metadata": {},
   "source": [
    "E finalmente nos casos em que temos uma nuvem aleatória de pontos, eles se concentram de forma aleatória entre a origem, por isso tende-se que a soma deles se anula e resulta em 0."
   ]
  },
  {
   "cell_type": "code",
   "execution_count": 107,
   "metadata": {},
   "outputs": [
    {
     "data": {
      "image/png": "[encoded data removed]",
      "text/plain": [
       "<Figure size 640x480 with 1 Axes>"
      ]
     },
     "metadata": {},
     "output_type": "display_data"
    }
   ],
   "source": [
    "%matplotlib inline\n",
    "# Calcular novos valores de x e y centrados na média da tabela 2_6 (pontos aleatórios sem associação)\n",
    "\n",
    "x = tabela_2_6['x'] - statistics.mean(tabela_2_6['x'])\n",
    "\n",
    "y = tabela_2_6['y'] - statistics.mean(tabela_2_6['y'])\n",
    "\n",
    "# plotando diagrama de dispersão com highlight na origem (centro)\n",
    "plt.style.use('default')\n",
    "fig = plt.figure()\n",
    "ax = fig.add_subplot(111)\n",
    "ax.scatter(x,y)\n",
    "ax.grid()\n",
    "a = ax.get_xgridlines()\n",
    "b = a[3]\n",
    "b.set_color('red')\n",
    "b.set_linewidth(3)\n",
    "c = ax.get_ygridlines()\n",
    "d = c[4]\n",
    "d.set_color('red')\n",
    "d.set_linewidth(3)"
   ]
  },
  {
   "cell_type": "markdown",
   "metadata": {},
   "source": [
    "Vamos continuar com a construção do índice com a tabela 2_4 que tem uma associação positiva. Note que a variabilidade de X e Y (centrados na media) são diferentes:"
   ]
  },
  {
   "cell_type": "code",
   "execution_count": 110,
   "metadata": {},
   "outputs": [
    {
     "name": "stdout",
     "output_type": "stream",
     "text": [
      "2.4103941586387903\n",
      "8.114801291467339\n"
     ]
    }
   ],
   "source": [
    "y = tabela_2_4['x'] - statistics.mean(tabela_2_4['x'])\n",
    "\n",
    "x = tabela_2_4['y'] - statistics.mean(tabela_2_4['y'])\n",
    "print(np.std(x))\n",
    "print(np.std(y))"
   ]
  },
  {
   "cell_type": "markdown",
   "metadata": {},
   "source": [
    "No caso, a variável y tem uma variância muito maior que x, dessa forma o produto ficaria muito mais afetado pela variável y do que pela x.\n",
    "Para lidar com este problema, vamos simplesmente colocar as duas variáveis na mesma escala as dividindo pelos seus respectivos desvios padrões:\n",
    "\n",
    "# $\\frac{x_i - \\bar{x}}{dp(x)}$\n",
    "\n",
    "# $\\frac{y_i - \\bar{y}}{dp(y)}$"
   ]
  },
  {
   "cell_type": "markdown",
   "metadata": {},
   "source": [
    "Agora que já temos nossa fórmula, vamos calcular os produtos dos pontos conforme o discutido:"
   ]
  },
  {
   "cell_type": "code",
   "execution_count": 118,
   "metadata": {},
   "outputs": [
    {
     "name": "stdout",
     "output_type": "stream",
     "text": [
      "0   -1.047469\n",
      "1   -0.801005\n",
      "2   -0.061616\n",
      "3   -0.554542\n",
      "4   -1.663627\n",
      "5    0.431311\n",
      "6    0.677774\n",
      "7    0.184847\n",
      "8    0.924237\n",
      "9    1.910090\n",
      "Name: x, dtype: float64\n",
      "0   -1.535019\n",
      "1   -1.120149\n",
      "2   -0.705279\n",
      "3   -0.290409\n",
      "4   -0.705279\n",
      "5    0.124461\n",
      "6    0.539331\n",
      "7    0.954201\n",
      "8    0.954201\n",
      "9    1.783941\n",
      "Name: y, dtype: float64\n"
     ]
    }
   ],
   "source": [
    "# Note que a classificação de x e y ficou invertida na tabela!\n",
    "y_produtos = (tabela_2_4['x'] - statistics.mean(tabela_2_4['x']))/np.std(tabela_2_4['x'])\n",
    "print(y_produtos)\n",
    "\n",
    "x_produtos = (tabela_2_4['y'] - statistics.mean(tabela_2_4['y']))/np.std(tabela_2_4['y'])\n",
    "print(x_produtos)"
   ]
  },
  {
   "cell_type": "markdown",
   "metadata": {},
   "source": [
    "Recapitulando: Nós centramos os pontos das variáveis na média e dividimos estes valores pelo desvio padrão, de forma a deixar as duas variáveis na mesma escala.\n",
    "\n",
    "Note que cada observação nos dá a coordenada do ponto em x e em y do nosso gráfico de dispersão: O ponto 0 tem coordenada [-1.04,-1.53].\n",
    "Agora que temos nossos pontos de acordo com a teoria, vamos fazer tirar o produto dos pontos e finalmente somar este produto!"
   ]
  },
  {
   "cell_type": "code",
   "execution_count": 122,
   "metadata": {},
   "outputs": [
    {
     "name": "stdout",
     "output_type": "stream",
     "text": [
      "8.767952099440144\n"
     ]
    }
   ],
   "source": [
    "# tirando o produto dos pontos e somando-os:\n",
    "\n",
    "print(np.sum(np.multiply(y_produtos, x_produtos)))"
   ]
  },
  {
   "cell_type": "markdown",
   "metadata": {},
   "source": [
    "8.76! Um valor positivo, demostrando associação positiva conforme o esperado no gráfico.\n",
    "\n",
    "Lembra que o valor da correlação varia entre -1 e 1? Para obter este resultado final, nós dividimos este valor pela média (número de observações):"
   ]
  },
  {
   "cell_type": "code",
   "execution_count": 123,
   "metadata": {},
   "outputs": [
    {
     "name": "stdout",
     "output_type": "stream",
     "text": [
      "0.876\n"
     ]
    }
   ],
   "source": [
    "print(8.76/10)"
   ]
  },
  {
   "cell_type": "markdown",
   "metadata": {},
   "source": [
    "E finalmente obtemos uma correlação de 0.876, note como é próxima de 1. isso indica que é uma associação forte de 87,6%.\n",
    "\n",
    "vamos conferir o resultado pelo python:"
   ]
  },
  {
   "cell_type": "code",
   "execution_count": 129,
   "metadata": {},
   "outputs": [
    {
     "name": "stdout",
     "output_type": "stream",
     "text": [
      "[[1.         0.87679521]\n",
      " [0.87679521 1.        ]]\n"
     ]
    }
   ],
   "source": [
    "print(np.corrcoef(tabela_2_4['x'], tabela_2_4['y']))"
   ]
  },
  {
   "cell_type": "markdown",
   "metadata": {},
   "source": [
    "Conforme esperado, a correlação é de 0.876!\n",
    "\n",
    "Com isso chegamos na fórmula formal da correlação:\n",
    "\n",
    "# $corr(x,y) = \\frac{1}{n}\\sum_{i=1}^n \\left (\\frac{x_i - \\bar{x}}{dp(x)}\\frac{y_i - \\bar{y}}{dp(y)} \\right )$"
   ]
  },
  {
   "cell_type": "markdown",
   "metadata": {},
   "source": [
    "Note que esta medida dá origem a outra medida muito usada na estatística: A covariância, que nada mais é do que a média dos produtos centrados na origem:\n",
    "\n",
    "# $cov(x,y) = \\frac{1}{n}\\sum_{i=1}^n \\left ((x_i - \\bar{x}) (y_i - \\bar{y}) \\right )$\n",
    "\n",
    "A covariância segue o mesmo raciocínio usado aqui, porém como ela não é normalizada pelo desvio padrão, ela simplesmente nos dá a tendência da relação linear (se é positiva, negativa ou inexistente). Mas ela não nos mostra o quão correlacionada uma variável está com a outra, por que podemos ter a influência de valores muito grandes de uma variável influenciando a outra, para medir isto usamos a correlação!"
   ]
  },
  {
   "cell_type": "markdown",
   "metadata": {},
   "source": [
    "# Associação entre variáveis qualitativas e quantitativas\n",
    "\n",
    "Neste caso vamos analisar como as variáveis qualitativas se comportam dentro de cada categoria quantitativa. "
   ]
  },
  {
   "cell_type": "code",
   "execution_count": 21,
   "metadata": {},
   "outputs": [
    {
     "name": "stdout",
     "output_type": "stream",
     "text": [
      "  Estado Civil   Grau de Instrução  N de Filhos  Salario (x Sal Min)  Anos  \\\n",
      "0     solteiro  ensino fundamental          NaN                 4.00    26   \n",
      "1       casado  ensino fundamental          1.0                 4.56    32   \n",
      "2       casado  ensino fundamental          2.0                 5.25    36   \n",
      "3     solteiro        ensino médio          NaN                 5.73    20   \n",
      "4     solteiro  ensino fundamental          NaN                 6.26    40   \n",
      "\n",
      "   Meses Região de Procedência  \n",
      "0      3              interior  \n",
      "1     10               capital  \n",
      "2      5               capital  \n",
      "3     10                 outra  \n",
      "4      7                 outra  \n"
     ]
    }
   ],
   "source": [
    "# Lendo tabela\n",
    "tab2_6 = pd.read_csv(\"Tabelas/tab2_6.csv\",decimal=',')\n",
    "print(tab2_6.head(5))"
   ]
  },
  {
   "cell_type": "code",
   "execution_count": 23,
   "metadata": {},
   "outputs": [
    {
     "name": "stdout",
     "output_type": "stream",
     "text": [
      "                   Salario (x Sal Min)                                       \\\n",
      "                                 count       mean       std    min      25%   \n",
      "Grau de Instrução                                                             \n",
      "ensino fundamental                12.0   7.836667  2.956464   4.00   6.0075   \n",
      "ensino médio                      18.0  11.528333  3.715144   5.73   8.8375   \n",
      "superior                           6.0  16.475000  4.502438  10.53  13.6475   \n",
      "\n",
      "                                            \n",
      "                       50%      75%    max  \n",
      "Grau de Instrução                           \n",
      "ensino fundamental   7.125   9.1625  13.85  \n",
      "ensino médio        10.910  14.4175  19.40  \n",
      "superior            16.740  18.3775  23.30  \n"
     ]
    }
   ],
   "source": [
    "# Fazendo tabela descritiva para o salário dentro do grau de instrução\n",
    "print(tab2_6[[\"Grau de Instrução\", \"Salario (x Sal Min)\"]].groupby(\"Grau de Instrução\").describe())"
   ]
  },
  {
   "cell_type": "markdown",
   "metadata": {},
   "source": [
    "Podemos ver pela descritiva que a média do salário aumenta (e muito) conforme o grau de instrução. Vamos visualizar por um box-plot:"
   ]
  },
  {
   "cell_type": "code",
   "execution_count": 19,
   "metadata": {},
   "outputs": [
    {
     "data": {
      "text/plain": [
       "<seaborn.axisgrid.FacetGrid at 0x14e3bb09f48>"
      ]
     },
     "execution_count": 19,
     "metadata": {},
     "output_type": "execute_result"
    },
    {
     "data": {
      "image/png": "[encoded data removed]",
      "text/plain": [
       "<Figure size 360x360 with 1 Axes>"
      ]
     },
     "metadata": {
      "needs_background": "light"
     },
     "output_type": "display_data"
    }
   ],
   "source": [
    "import seaborn as sns\n",
    "sns.catplot(x=\"Grau de Instrução\", y=\"Salario (x Sal Min)\", kind=\"box\", data = tab2_6)"
   ]
  },
  {
   "cell_type": "markdown",
   "metadata": {},
   "source": [
    "Porém nem sempre essa relação é clara, por exemplo se análisarmos o salário por região:"
   ]
  },
  {
   "cell_type": "code",
   "execution_count": 24,
   "metadata": {},
   "outputs": [
    {
     "name": "stdout",
     "output_type": "stream",
     "text": [
      "                      Salario (x Sal Min)                                    \\\n",
      "                                    count       mean       std   min    25%   \n",
      "Região de Procedência                                                         \n",
      "capital                              11.0  11.455455  5.476653  4.56  7.490   \n",
      "interior                             12.0  11.550000  5.296055  4.00  7.805   \n",
      "outra                                13.0  10.445385  3.145453  5.73  8.740   \n",
      "\n",
      "                                              \n",
      "                          50%     75%    max  \n",
      "Região de Procedência                         \n",
      "capital                 9.770  16.625  19.40  \n",
      "interior               10.645  14.695  23.30  \n",
      "outra                   9.800  12.790  16.22  \n"
     ]
    },
    {
     "data": {
      "text/plain": [
       "<seaborn.axisgrid.FacetGrid at 0x14e3df6e088>"
      ]
     },
     "execution_count": 24,
     "metadata": {},
     "output_type": "execute_result"
    },
    {
     "data": {
      "image/png": "[encoded data removed]",
      "text/plain": [
       "<Figure size 360x360 with 1 Axes>"
      ]
     },
     "metadata": {
      "needs_background": "light"
     },
     "output_type": "display_data"
    }
   ],
   "source": [
    "# descritiva para o salário dentro do cada região\n",
    "print(tab2_6[[\"Região de Procedência\", \"Salario (x Sal Min)\"]].groupby(\"Região de Procedência\").describe())\n",
    "\n",
    "# box plot\n",
    "sns.catplot(x=\"Região de Procedência\", y=\"Salario (x Sal Min)\", kind=\"box\", data = tab2_6)"
   ]
  },
  {
   "cell_type": "markdown",
   "metadata": {},
   "source": [
    " Como medimos então o grau de dependência entre uma variável quantitativa e uma qualitativa?\n",
    " \n",
    " Uma primeira forma pode ser a de olhar a variância da variável quantitativa isolada (chamaremos de variância global) e comparar com a variância da variável quantitativa dentro de cada categoria analisada (local). Se a variância local for menor que a global, isso indica que a variável categória melhora a previsão da quantitativa, assim existindo uma relação entre as variáveis."
   ]
  },
  {
   "cell_type": "code",
   "execution_count": 33,
   "metadata": {},
   "outputs": [
    {
     "name": "stdout",
     "output_type": "stream",
     "text": [
      "4.5874575038038605\n"
     ]
    }
   ],
   "source": [
    "# variância global do salário\n",
    "import statistics\n",
    "print(statistics.stdev(tab2_6[\"Salario (x Sal Min)\"]))"
   ]
  },
  {
   "cell_type": "markdown",
   "metadata": {},
   "source": [
    "Comparando o dp global com o local das tabelas acima, vemos que o desvio é menor para as categorias de ensino, porém ele é maior para as regiões (com excessão, por pouco, da categoria outra).\n",
    "\n",
    "Usando esta teoria vamos criar uma medida-resumo da variância entre as categorias da variável qualitativa. \n",
    "\n",
    "Para isso nos vamos usar a média das variâncias, porém ela vai ser ponderada pelo número de observações em cada categoria, assim:\n",
    "\n",
    "# $\\bar{var(S)} = \\frac{\\sum_{i=1}^k n_i var_i(S)}{\\sum_{i=1}^k n_i}$"
   ]
  },
  {
   "cell_type": "markdown",
   "metadata": {},
   "source": [
    "onde k indica o número de categorias, e $var_i(S)$ a variância dentro de cada categoria.\n",
    "\n",
    "Pode ser demonstrado que essa medida de variância é menor ou igual a global. Dessa forma podemos definir nossa medida como:\n",
    "\n",
    "# $R^2 = \\frac{var(S) - \\bar{var(S)}}{var(S)} = 1 - \\frac{\\bar{var(S)}}{var(S)}$"
   ]
  },
  {
   "cell_type": "markdown",
   "metadata": {},
   "source": [
    "Dessa forma, quanto menor nossa variação construída for menor que a global, mais próximo nosso índice fica de 1. Se ela for exatamente igual a global, nosso índice é 0 (indicando 0% de associação)."
   ]
  },
  {
   "cell_type": "markdown",
   "metadata": {},
   "source": [
    "Vamos analisar nosse exemplo!\n",
    "Primeiro vamos encontrar a variância global"
   ]
  },
  {
   "cell_type": "code",
   "execution_count": 37,
   "metadata": {},
   "outputs": [
    {
     "name": "stdout",
     "output_type": "stream",
     "text": [
      "21.04476634920635\n"
     ]
    }
   ],
   "source": [
    "print(statistics.variance(tab2_6[\"Salario (x Sal Min)\"]))"
   ]
  },
  {
   "cell_type": "markdown",
   "metadata": {},
   "source": [
    "Agora vamos construir a $\\bar{var(S)}$ para os dois grupos, vamos usar a tabela para pegar os valores:"
   ]
  },
  {
   "cell_type": "code",
   "execution_count": 51,
   "metadata": {},
   "outputs": [
    {
     "name": "stdout",
     "output_type": "stream",
     "text": [
      "                   Salario (x Sal Min)                                       \\\n",
      "                                 count       mean       std    min      25%   \n",
      "Grau de Instrução                                                             \n",
      "ensino fundamental                12.0   7.836667  2.956464   4.00   6.0075   \n",
      "ensino médio                      18.0  11.528333  3.715144   5.73   8.8375   \n",
      "superior                           6.0  16.475000  4.502438  10.53  13.6475   \n",
      "\n",
      "                                            \n",
      "                       50%      75%    max  \n",
      "Grau de Instrução                           \n",
      "ensino fundamental   7.125   9.1625  13.85  \n",
      "ensino médio        10.910  14.4175  19.40  \n",
      "superior            16.740  18.3775  23.30  \n",
      "13.157883333333334\n"
     ]
    }
   ],
   "source": [
    "print(tab2_6[[\"Grau de Instrução\", \"Salario (x Sal Min)\"]].groupby(\"Grau de Instrução\").describe())\n",
    "\n",
    "# usando a fórmula apresentada para criar a variancia do agrupada por grau de instrucao\n",
    "bvar_instrucao = ((12*(2.95**2)) + (18*(3.71**2)) + (6*(4.5**2)))/(12+18+6)\n",
    "print(bvar_instrucao)"
   ]
  },
  {
   "cell_type": "code",
   "execution_count": 56,
   "metadata": {},
   "outputs": [
    {
     "name": "stdout",
     "output_type": "stream",
     "text": [
      "                      Salario (x Sal Min)                                    \\\n",
      "                                    count       mean       std   min    25%   \n",
      "Região de Procedência                                                         \n",
      "capital                              11.0  11.455455  5.476653  4.56  7.490   \n",
      "interior                             12.0  11.550000  5.296055  4.00  7.805   \n",
      "outra                                13.0  10.445385  3.145453  5.73  8.740   \n",
      "\n",
      "                                              \n",
      "                          50%     75%    max  \n",
      "Região de Procedência                         \n",
      "capital                 9.770  16.625  19.40  \n",
      "interior               10.645  14.695  23.30  \n",
      "outra                   9.800  12.790  16.22  \n",
      "20.723333333333336\n"
     ]
    }
   ],
   "source": [
    "print(tab2_6[[\"Região de Procedência\", \"Salario (x Sal Min)\"]].groupby(\"Região de Procedência\").describe())\n",
    "\n",
    "# usando a fórmula apresentada para criar a variancia do agrupada por regiao\n",
    "bvar_regiao = ((11*(5.3**2)) + (12*(5.1**2)) + (13*(3.1**2)))/(11+12+13)\n",
    "print(bvar_regiao)"
   ]
  },
  {
   "cell_type": "markdown",
   "metadata": {},
   "source": [
    "Agora que temos a variancia global e a local, vamos calcular o $R^2$ para os dois grupos e analisar o quão associadas estas variáveis estão:"
   ]
  },
  {
   "cell_type": "code",
   "execution_count": 60,
   "metadata": {},
   "outputs": [
    {
     "name": "stdout",
     "output_type": "stream",
     "text": [
      "0.3754752851711026\n",
      "0.01520912547528519\n"
     ]
    }
   ],
   "source": [
    "r_instrucao = 1 - (13.14/21.04)\n",
    "print(r_instrucao)\n",
    "\n",
    "r_regiao= 1 - (20.72/21.04)\n",
    "print(r_regiao)"
   ]
  },
  {
   "cell_type": "markdown",
   "metadata": {},
   "source": [
    "Conforme o esperado, existe uma associação bem mais forte entre instrucao e salário (37,5%) do que entre regiao e salario (1,5%)\n",
    "\n",
    "**Note que os valores estão levemente diferentes do livro devido a fórmula que os pacotes utilizados calculam a variância, a fórmula do pacote deve estar calculando a variancia amostral enquanto o livro está calculando a populacional**"
   ]
  },
  {
   "cell_type": "markdown",
   "metadata": {},
   "source": [
    "#  qxq\n",
    "\n",
    "Suponhamos que temos duas variáveis medidos pela mesma unidade (por exemplo, a temperatura de duas cidades diferentes).\n",
    "\n",
    "O gráfico qxq é um gráfico dos quantis de uma variável vs os quantis da outra. Como no gráfico os valores estão ordenados, eles nos mostra se valores pequenos de X estão relacionados com valores pequenos de Y, valores médios com valores médios e assim por diante. (Isto é diferente do gráfico de dispersão que nos dá apenas uma ideia global da associação entre as variáveis)."
   ]
  }
 ],
 "metadata": {
  "kernelspec": {
   "display_name": "Python 3",
   "language": "python",
   "name": "python3"
  },
  "language_info": {
   "codemirror_mode": {
    "name": "ipython",
    "version": 3
   },
   "file_extension": ".py",
   "mimetype": "text/x-python",
   "name": "python",
   "nbconvert_exporter": "python",
   "pygments_lexer": "ipython3",
   "version": "3.7.4"
  }
 },
 "nbformat": 4,
 "nbformat_minor": 4
}
