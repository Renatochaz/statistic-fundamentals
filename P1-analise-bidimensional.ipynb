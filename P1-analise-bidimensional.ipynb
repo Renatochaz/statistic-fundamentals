{
 "cells": [
  {
   "cell_type": "markdown",
   "metadata": {},
   "source": [
    "Extendendo o conteúdo da primeira parte, agora iremos nos preocupar em como analisar o comportamento de duas ou mais variáveis, que é o que ocorre na prática. \n",
    "\n",
    "Os dados estão geralmente dispostos em formas de matriz, com $n$ indíviduos na primeira coluna e as subsequentes $p$ colunas: $x_1,x_2,...,x_p$ com as variáveis do estudo.\n",
    "\n",
    "Podemos ter três situações distintas ao trabalhar com mais de uma variável:\n",
    "\n",
    "- Todas são qualitativas;\n",
    "- Todas são quantitativas;\n",
    "- Associação entre quantitativas e qualitativas.\n",
    "\n",
    "Em cada caso as técnicas utilizadas são diferentes, porém o objetivo é sempre o mesmo: Encontrar se existe uma associação entre as variáveis.\n",
    "Considere o seguinte exemplo: Imagine uma população $A$, composta de homens e mulheres. Sabemos que geralmente existe uma associação entre sexo e altura - pessoas do sexo masculino tendem a serem mais altas. Dessa forma, qual seria a chance de encontrar uma pessoa nessa população A com mais de 1,70 do grupo dos homens? E do grupo de mulheres? Se a chance for diferente para os dois grupos, podemos dizer que existe uma associação entre sexo e altura. (mais para frente discutiremos associações espúrias)"
   ]
  },
  {
   "cell_type": "markdown",
   "metadata": {},
   "source": [
    "# Análise variáveis qualitativas\n",
    "\n",
    "- Tabelas de dupla entrada\n",
    "\n",
    "    Vamos trabalhar com a tabela 2.1, nela iremos analisar o comportamento das váriaveis Y(grau de escolaridade) e V(região de procedência)."
   ]
  },
  {
   "cell_type": "code",
   "execution_count": 12,
   "metadata": {},
   "outputs": [],
   "source": [
    "# Importar bibiliotecas\n",
    "import numpy as np\n",
    "import pandas as pd\n",
    "import os\n",
    "\n",
    "# Ler tabela\n",
    "t21 = pd.read_csv(\"tabela_2_1.csv\")"
   ]
  },
  {
   "cell_type": "code",
   "execution_count": 75,
   "metadata": {},
   "outputs": [
    {
     "data": {
      "text/html": [
       "<div>\n",
       "<style scoped>\n",
       "    .dataframe tbody tr th:only-of-type {\n",
       "        vertical-align: middle;\n",
       "    }\n",
       "\n",
       "    .dataframe tbody tr th {\n",
       "        vertical-align: top;\n",
       "    }\n",
       "\n",
       "    .dataframe thead th {\n",
       "        text-align: right;\n",
       "    }\n",
       "</style>\n",
       "<table border=\"1\" class=\"dataframe\">\n",
       "  <thead>\n",
       "    <tr style=\"text-align: right;\">\n",
       "      <th></th>\n",
       "      <th>Fundamental</th>\n",
       "      <th>Médio</th>\n",
       "      <th>Superior</th>\n",
       "      <th>row_total</th>\n",
       "    </tr>\n",
       "  </thead>\n",
       "  <tbody>\n",
       "    <tr>\n",
       "      <td>Capital</td>\n",
       "      <td>4</td>\n",
       "      <td>5</td>\n",
       "      <td>2</td>\n",
       "      <td>11</td>\n",
       "    </tr>\n",
       "    <tr>\n",
       "      <td>Interior</td>\n",
       "      <td>3</td>\n",
       "      <td>7</td>\n",
       "      <td>2</td>\n",
       "      <td>12</td>\n",
       "    </tr>\n",
       "    <tr>\n",
       "      <td>Outra</td>\n",
       "      <td>5</td>\n",
       "      <td>6</td>\n",
       "      <td>2</td>\n",
       "      <td>13</td>\n",
       "    </tr>\n",
       "    <tr>\n",
       "      <td>col_total</td>\n",
       "      <td>12</td>\n",
       "      <td>18</td>\n",
       "      <td>6</td>\n",
       "      <td>36</td>\n",
       "    </tr>\n",
       "  </tbody>\n",
       "</table>\n",
       "</div>"
      ],
      "text/plain": [
       "           Fundamental  Médio  Superior  row_total\n",
       "Capital              4      5         2         11\n",
       "Interior             3      7         2         12\n",
       "Outra                5      6         2         13\n",
       "col_total           12     18         6         36"
      ]
     },
     "execution_count": 75,
     "metadata": {},
     "output_type": "execute_result"
    }
   ],
   "source": [
    "# Tabela de região x escolaridade\n",
    "tab_regiao = pd.crosstab(index=t21[\"V\"], \n",
    "                           columns=t21[\"Y\"],\n",
    "                          margins=True)\n",
    "tab_regiao.index = [\"Capital\",\"Interior\",\"Outra\",\"col_total\"]\n",
    "tab_regiao.columns = [\"Fundamental\",\"Médio\",\"Superior\",\"row_total\"]\n",
    "\n",
    "tab_regiao\n"
   ]
  },
  {
   "cell_type": "markdown",
   "metadata": {},
   "source": [
    "A tabela \"tab_regiao\" é uma tabela de dupla entrada usualmente utilizada para análises de duas variáveis qualitativas. Cada elemento nos dá a frequência observada de uma variável dada a outra, assim observamos que temos 4 pessoas com fundamental na capital, 3 com fundamental no interior e etc.\n",
    "\n",
    "Além das frequências absolutas, podemos trabalhar com frequências relativas, as nossas opções são:\n",
    "\n",
    "- Relação ao total geral;\n",
    "- Relação ao total de cada linha;\n",
    "- Relação ao total de cada coluna.\n",
    "\n",
    "Para cada estudo, uma ou outra será mais eficiente. Vamos analisar:"
   ]
  },
  {
   "cell_type": "code",
   "execution_count": 76,
   "metadata": {},
   "outputs": [
    {
     "data": {
      "text/html": [
       "<div>\n",
       "<style scoped>\n",
       "    .dataframe tbody tr th:only-of-type {\n",
       "        vertical-align: middle;\n",
       "    }\n",
       "\n",
       "    .dataframe tbody tr th {\n",
       "        vertical-align: top;\n",
       "    }\n",
       "\n",
       "    .dataframe thead th {\n",
       "        text-align: right;\n",
       "    }\n",
       "</style>\n",
       "<table border=\"1\" class=\"dataframe\">\n",
       "  <thead>\n",
       "    <tr style=\"text-align: right;\">\n",
       "      <th></th>\n",
       "      <th>Fundamental</th>\n",
       "      <th>Médio</th>\n",
       "      <th>Superior</th>\n",
       "      <th>row_total</th>\n",
       "    </tr>\n",
       "  </thead>\n",
       "  <tbody>\n",
       "    <tr>\n",
       "      <td>Capital</td>\n",
       "      <td>11.0</td>\n",
       "      <td>14.0</td>\n",
       "      <td>6.0</td>\n",
       "      <td>31.0</td>\n",
       "    </tr>\n",
       "    <tr>\n",
       "      <td>Interior</td>\n",
       "      <td>8.0</td>\n",
       "      <td>19.0</td>\n",
       "      <td>6.0</td>\n",
       "      <td>33.0</td>\n",
       "    </tr>\n",
       "    <tr>\n",
       "      <td>Outra</td>\n",
       "      <td>14.0</td>\n",
       "      <td>17.0</td>\n",
       "      <td>6.0</td>\n",
       "      <td>36.0</td>\n",
       "    </tr>\n",
       "    <tr>\n",
       "      <td>col_total</td>\n",
       "      <td>33.0</td>\n",
       "      <td>50.0</td>\n",
       "      <td>17.0</td>\n",
       "      <td>100.0</td>\n",
       "    </tr>\n",
       "  </tbody>\n",
       "</table>\n",
       "</div>"
      ],
      "text/plain": [
       "           Fundamental  Médio  Superior  row_total\n",
       "Capital           11.0   14.0       6.0       31.0\n",
       "Interior           8.0   19.0       6.0       33.0\n",
       "Outra             14.0   17.0       6.0       36.0\n",
       "col_total         33.0   50.0      17.0      100.0"
      ]
     },
     "execution_count": 76,
     "metadata": {},
     "output_type": "execute_result"
    }
   ],
   "source": [
    "# Tabela em relação ao total geral\n",
    "round(tab_regiao/tab_regiao.loc[\"col_total\",\"row_total\"]*100)"
   ]
  },
  {
   "cell_type": "markdown",
   "metadata": {},
   "source": [
    "Neste caso dividimos cada elemento pelo total geral da tabela (36 observações), isso nos dá a frequência relativa de toda a amostra: Sabemos que 31% da amostra é da capital, e que desses elementos capital: 11% tem fundamental, 14% médio e 6% superior."
   ]
  },
  {
   "cell_type": "code",
   "execution_count": 77,
   "metadata": {},
   "outputs": [
    {
     "data": {
      "text/html": [
       "<div>\n",
       "<style scoped>\n",
       "    .dataframe tbody tr th:only-of-type {\n",
       "        vertical-align: middle;\n",
       "    }\n",
       "\n",
       "    .dataframe tbody tr th {\n",
       "        vertical-align: top;\n",
       "    }\n",
       "\n",
       "    .dataframe thead th {\n",
       "        text-align: right;\n",
       "    }\n",
       "</style>\n",
       "<table border=\"1\" class=\"dataframe\">\n",
       "  <thead>\n",
       "    <tr style=\"text-align: right;\">\n",
       "      <th></th>\n",
       "      <th>Fundamental</th>\n",
       "      <th>Médio</th>\n",
       "      <th>Superior</th>\n",
       "      <th>row_total</th>\n",
       "    </tr>\n",
       "  </thead>\n",
       "  <tbody>\n",
       "    <tr>\n",
       "      <td>Capital</td>\n",
       "      <td>33.0</td>\n",
       "      <td>28.0</td>\n",
       "      <td>33.0</td>\n",
       "      <td>31.0</td>\n",
       "    </tr>\n",
       "    <tr>\n",
       "      <td>Interior</td>\n",
       "      <td>25.0</td>\n",
       "      <td>39.0</td>\n",
       "      <td>33.0</td>\n",
       "      <td>33.0</td>\n",
       "    </tr>\n",
       "    <tr>\n",
       "      <td>Outra</td>\n",
       "      <td>42.0</td>\n",
       "      <td>33.0</td>\n",
       "      <td>33.0</td>\n",
       "      <td>36.0</td>\n",
       "    </tr>\n",
       "    <tr>\n",
       "      <td>col_total</td>\n",
       "      <td>100.0</td>\n",
       "      <td>100.0</td>\n",
       "      <td>100.0</td>\n",
       "      <td>100.0</td>\n",
       "    </tr>\n",
       "  </tbody>\n",
       "</table>\n",
       "</div>"
      ],
      "text/plain": [
       "           Fundamental  Médio  Superior  row_total\n",
       "Capital           33.0   28.0      33.0       31.0\n",
       "Interior          25.0   39.0      33.0       33.0\n",
       "Outra             42.0   33.0      33.0       36.0\n",
       "col_total        100.0  100.0     100.0      100.0"
      ]
     },
     "execution_count": 77,
     "metadata": {},
     "output_type": "execute_result"
    }
   ],
   "source": [
    "# Tabela em relação ao total de cada coluna\n",
    "round(tab_regiao/tab_regiao.loc[\"col_total\"]*100)"
   ]
  },
  {
   "cell_type": "markdown",
   "metadata": {},
   "source": [
    "Aqui nos temos as proporções em relação a cada coluna, dessa forma podemos observar que do grupo da coluna 1 (fundamental), 33% são da capital, 25% do interior e 42% de outra categoria."
   ]
  },
  {
   "cell_type": "code",
   "execution_count": 82,
   "metadata": {},
   "outputs": [
    {
     "data": {
      "text/html": [
       "<div>\n",
       "<style scoped>\n",
       "    .dataframe tbody tr th:only-of-type {\n",
       "        vertical-align: middle;\n",
       "    }\n",
       "\n",
       "    .dataframe tbody tr th {\n",
       "        vertical-align: top;\n",
       "    }\n",
       "\n",
       "    .dataframe thead th {\n",
       "        text-align: right;\n",
       "    }\n",
       "</style>\n",
       "<table border=\"1\" class=\"dataframe\">\n",
       "  <thead>\n",
       "    <tr style=\"text-align: right;\">\n",
       "      <th></th>\n",
       "      <th>Fundamental</th>\n",
       "      <th>Médio</th>\n",
       "      <th>Superior</th>\n",
       "      <th>row_total</th>\n",
       "    </tr>\n",
       "  </thead>\n",
       "  <tbody>\n",
       "    <tr>\n",
       "      <td>Capital</td>\n",
       "      <td>36.0</td>\n",
       "      <td>45.0</td>\n",
       "      <td>18.0</td>\n",
       "      <td>100.0</td>\n",
       "    </tr>\n",
       "    <tr>\n",
       "      <td>Interior</td>\n",
       "      <td>25.0</td>\n",
       "      <td>58.0</td>\n",
       "      <td>17.0</td>\n",
       "      <td>100.0</td>\n",
       "    </tr>\n",
       "    <tr>\n",
       "      <td>Outra</td>\n",
       "      <td>38.0</td>\n",
       "      <td>46.0</td>\n",
       "      <td>15.0</td>\n",
       "      <td>100.0</td>\n",
       "    </tr>\n",
       "    <tr>\n",
       "      <td>col_total</td>\n",
       "      <td>33.0</td>\n",
       "      <td>50.0</td>\n",
       "      <td>17.0</td>\n",
       "      <td>100.0</td>\n",
       "    </tr>\n",
       "  </tbody>\n",
       "</table>\n",
       "</div>"
      ],
      "text/plain": [
       "           Fundamental  Médio  Superior  row_total\n",
       "Capital           36.0   45.0      18.0      100.0\n",
       "Interior          25.0   58.0      17.0      100.0\n",
       "Outra             38.0   46.0      15.0      100.0\n",
       "col_total         33.0   50.0      17.0      100.0"
      ]
     },
     "execution_count": 82,
     "metadata": {},
     "output_type": "execute_result"
    }
   ],
   "source": [
    "# Tabela em relação ao total de cada linha\n",
    "round(tab_regiao.div(tab_regiao[\"row_total\"],axis = 0)*100)"
   ]
  },
  {
   "cell_type": "markdown",
   "metadata": {},
   "source": [
    "Agora analisamos as linhas: Para a primeira linha (capital) temos 36% dos individuos com fundamental, 45% com médio e 18% com superior."
   ]
  },
  {
   "cell_type": "code",
   "execution_count": null,
   "metadata": {},
   "outputs": [],
   "source": []
  },
  {
   "cell_type": "code",
   "execution_count": null,
   "metadata": {},
   "outputs": [],
   "source": []
  }
 ],
 "metadata": {
  "kernelspec": {
   "display_name": "Python 3",
   "language": "python",
   "name": "python3"
  },
  "language_info": {
   "codemirror_mode": {
    "name": "ipython",
    "version": 3
   },
   "file_extension": ".py",
   "mimetype": "text/x-python",
   "name": "python",
   "nbconvert_exporter": "python",
   "pygments_lexer": "ipython3",
   "version": "3.7.4"
  }
 },
 "nbformat": 4,
 "nbformat_minor": 4
}
